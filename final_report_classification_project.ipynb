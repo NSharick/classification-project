{
 "cells": [
  {
   "cell_type": "markdown",
   "id": "306b22dd",
   "metadata": {},
   "source": [
    "# Final Report - Classification Project\n",
    "\n",
    "- Nathan Sharick"
   ]
  },
  {
   "cell_type": "markdown",
   "id": "785ce5b2",
   "metadata": {},
   "source": [
    "---"
   ]
  },
  {
   "cell_type": "markdown",
   "id": "35796bd6",
   "metadata": {},
   "source": [
    "### Project Goals\n",
    "- Goal 1: Find drivers of churn for Telco customers\n",
    "\n",
    "- Goal 2: Develop a machine learning model that accurately predicts customer churn"
   ]
  },
  {
   "cell_type": "markdown",
   "id": "c2356427",
   "metadata": {},
   "source": [
    "### Project Description\n",
    "- The project will include data acquisition, data cleaning / wrangling, data exploration, machine learning modeling for predicting customer churn, and predictions of customer churn based on the current telco dataset\n",
    "\n",
    "- The project wil conclude with a final report that summarizes the project's findings, including the code necessary to replicate the findings, and a .csv file with predictions of churn based on the best performing model\n",
    "\n"
   ]
  },
  {
   "cell_type": "markdown",
   "id": "d8f2826e",
   "metadata": {},
   "source": [
    "### Imports"
   ]
  },
  {
   "cell_type": "code",
   "execution_count": 1,
   "id": "280928bf",
   "metadata": {},
   "outputs": [],
   "source": [
    "#import python libraries for overall notebook/script functionality\n",
    "import pandas as pd\n",
    "import numpy as np\n",
    "import matplotlib.pyplot as plt\n",
    "import seaborn as sns\n",
    "import scipy.stats as stats\n",
    "\n",
    "#import machine learning model libraries from sklearn for the modeling stage of the project\n",
    "from sklearn.metrics import accuracy_score\n",
    "from sklearn.metrics import precision_score\n",
    "from sklearn.metrics import recall_score\n",
    "from sklearn.metrics import classification_report\n",
    "from sklearn.ensemble import RandomForestClassifier\n",
    "from sklearn.model_selection import train_test_split\n",
    "from sklearn.tree import DecisionTreeClassifier, plot_tree, export_text\n",
    "from sklearn.metrics import confusion_matrix\n",
    "from sklearn.neighbors import KNeighborsClassifier as KNN\n",
    "from sklearn.linear_model import LogisticRegression\n",
    "\n",
    "#import warnings filter to keep the final report notebook for being cluttered\n",
    "import warnings\n",
    "warnings.filterwarnings('ignore')\n",
    "\n",
    "#import the dataset acquisition function from the acquire.py file\n",
    "from acquire import get_telco_data\n",
    "\n",
    "#import the data preparation function from the prepare.py file\n",
    "from prepare import prep_telco\n"
   ]
  },
  {
   "cell_type": "markdown",
   "id": "d0f1ded8",
   "metadata": {},
   "source": [
    "### Data Acquisition and Data Cleaning"
   ]
  },
  {
   "cell_type": "markdown",
   "id": "c2714f3a",
   "metadata": {},
   "source": [
    "##### Acquiring the project dataset\n",
    "- The function for acquiring the data for this project is in the included acquire.py file\n",
    "\n",
    "- The acquire function is named \"get_telco_data\" and has the following attributes:\n",
    "\n",
    "    - It defines the .csv filename as 'telco.csv'\n",
    "    \n",
    "    - It checks to see if there is already a copy of the telco.csv in the current working directory\n",
    "    \n",
    "    - If there is already a copy in the local directory it reads that file into the notebook\n",
    "    \n",
    "    - If there is not already a copy in the directory it runs a sql query to pull and join all four tables of telco data from the database \n",
    "    \n",
    "    - After pulling the dataset from the database the function saves a copy of the 'telco.csv' file to the working directory so that all future calls will pull from the local file\n",
    "   \n",
    "- The acquire.py file has all the needed imports to run including numpy, pandas, os, the env file with databse access credentials, and the get_db_url function used to access the database.\n"
   ]
  },
  {
   "cell_type": "code",
   "execution_count": 2,
   "id": "17a92ecf",
   "metadata": {},
   "outputs": [
    {
     "name": "stdout",
     "output_type": "stream",
     "text": [
      "Reading from csv file...\n"
     ]
    },
    {
     "data": {
      "text/html": [
       "<div>\n",
       "<style scoped>\n",
       "    .dataframe tbody tr th:only-of-type {\n",
       "        vertical-align: middle;\n",
       "    }\n",
       "\n",
       "    .dataframe tbody tr th {\n",
       "        vertical-align: top;\n",
       "    }\n",
       "\n",
       "    .dataframe thead th {\n",
       "        text-align: right;\n",
       "    }\n",
       "</style>\n",
       "<table border=\"1\" class=\"dataframe\">\n",
       "  <thead>\n",
       "    <tr style=\"text-align: right;\">\n",
       "      <th></th>\n",
       "      <th>payment_type_id</th>\n",
       "      <th>internet_service_type_id</th>\n",
       "      <th>contract_type_id</th>\n",
       "      <th>customer_id</th>\n",
       "      <th>gender</th>\n",
       "      <th>senior_citizen</th>\n",
       "      <th>partner</th>\n",
       "      <th>dependents</th>\n",
       "      <th>tenure</th>\n",
       "      <th>phone_service</th>\n",
       "      <th>...</th>\n",
       "      <th>tech_support</th>\n",
       "      <th>streaming_tv</th>\n",
       "      <th>streaming_movies</th>\n",
       "      <th>paperless_billing</th>\n",
       "      <th>monthly_charges</th>\n",
       "      <th>total_charges</th>\n",
       "      <th>churn</th>\n",
       "      <th>contract_type</th>\n",
       "      <th>internet_service_type</th>\n",
       "      <th>payment_type</th>\n",
       "    </tr>\n",
       "  </thead>\n",
       "  <tbody>\n",
       "    <tr>\n",
       "      <th>0</th>\n",
       "      <td>2</td>\n",
       "      <td>1</td>\n",
       "      <td>2</td>\n",
       "      <td>0002-ORFBO</td>\n",
       "      <td>Female</td>\n",
       "      <td>0</td>\n",
       "      <td>Yes</td>\n",
       "      <td>Yes</td>\n",
       "      <td>9</td>\n",
       "      <td>Yes</td>\n",
       "      <td>...</td>\n",
       "      <td>Yes</td>\n",
       "      <td>Yes</td>\n",
       "      <td>No</td>\n",
       "      <td>Yes</td>\n",
       "      <td>65.6</td>\n",
       "      <td>593.3</td>\n",
       "      <td>No</td>\n",
       "      <td>One year</td>\n",
       "      <td>DSL</td>\n",
       "      <td>Mailed check</td>\n",
       "    </tr>\n",
       "    <tr>\n",
       "      <th>1</th>\n",
       "      <td>2</td>\n",
       "      <td>1</td>\n",
       "      <td>1</td>\n",
       "      <td>0003-MKNFE</td>\n",
       "      <td>Male</td>\n",
       "      <td>0</td>\n",
       "      <td>No</td>\n",
       "      <td>No</td>\n",
       "      <td>9</td>\n",
       "      <td>Yes</td>\n",
       "      <td>...</td>\n",
       "      <td>No</td>\n",
       "      <td>No</td>\n",
       "      <td>Yes</td>\n",
       "      <td>No</td>\n",
       "      <td>59.9</td>\n",
       "      <td>542.4</td>\n",
       "      <td>No</td>\n",
       "      <td>Month-to-month</td>\n",
       "      <td>DSL</td>\n",
       "      <td>Mailed check</td>\n",
       "    </tr>\n",
       "    <tr>\n",
       "      <th>2</th>\n",
       "      <td>1</td>\n",
       "      <td>2</td>\n",
       "      <td>1</td>\n",
       "      <td>0004-TLHLJ</td>\n",
       "      <td>Male</td>\n",
       "      <td>0</td>\n",
       "      <td>No</td>\n",
       "      <td>No</td>\n",
       "      <td>4</td>\n",
       "      <td>Yes</td>\n",
       "      <td>...</td>\n",
       "      <td>No</td>\n",
       "      <td>No</td>\n",
       "      <td>No</td>\n",
       "      <td>Yes</td>\n",
       "      <td>73.9</td>\n",
       "      <td>280.85</td>\n",
       "      <td>Yes</td>\n",
       "      <td>Month-to-month</td>\n",
       "      <td>Fiber optic</td>\n",
       "      <td>Electronic check</td>\n",
       "    </tr>\n",
       "    <tr>\n",
       "      <th>3</th>\n",
       "      <td>1</td>\n",
       "      <td>2</td>\n",
       "      <td>1</td>\n",
       "      <td>0011-IGKFF</td>\n",
       "      <td>Male</td>\n",
       "      <td>1</td>\n",
       "      <td>Yes</td>\n",
       "      <td>No</td>\n",
       "      <td>13</td>\n",
       "      <td>Yes</td>\n",
       "      <td>...</td>\n",
       "      <td>No</td>\n",
       "      <td>Yes</td>\n",
       "      <td>Yes</td>\n",
       "      <td>Yes</td>\n",
       "      <td>98.0</td>\n",
       "      <td>1237.85</td>\n",
       "      <td>Yes</td>\n",
       "      <td>Month-to-month</td>\n",
       "      <td>Fiber optic</td>\n",
       "      <td>Electronic check</td>\n",
       "    </tr>\n",
       "    <tr>\n",
       "      <th>4</th>\n",
       "      <td>2</td>\n",
       "      <td>2</td>\n",
       "      <td>1</td>\n",
       "      <td>0013-EXCHZ</td>\n",
       "      <td>Female</td>\n",
       "      <td>1</td>\n",
       "      <td>Yes</td>\n",
       "      <td>No</td>\n",
       "      <td>3</td>\n",
       "      <td>Yes</td>\n",
       "      <td>...</td>\n",
       "      <td>Yes</td>\n",
       "      <td>Yes</td>\n",
       "      <td>No</td>\n",
       "      <td>Yes</td>\n",
       "      <td>83.9</td>\n",
       "      <td>267.4</td>\n",
       "      <td>Yes</td>\n",
       "      <td>Month-to-month</td>\n",
       "      <td>Fiber optic</td>\n",
       "      <td>Mailed check</td>\n",
       "    </tr>\n",
       "  </tbody>\n",
       "</table>\n",
       "<p>5 rows × 24 columns</p>\n",
       "</div>"
      ],
      "text/plain": [
       "   payment_type_id  internet_service_type_id  contract_type_id customer_id  \\\n",
       "0                2                         1                 2  0002-ORFBO   \n",
       "1                2                         1                 1  0003-MKNFE   \n",
       "2                1                         2                 1  0004-TLHLJ   \n",
       "3                1                         2                 1  0011-IGKFF   \n",
       "4                2                         2                 1  0013-EXCHZ   \n",
       "\n",
       "   gender  senior_citizen partner dependents  tenure phone_service  ...  \\\n",
       "0  Female               0     Yes        Yes       9           Yes  ...   \n",
       "1    Male               0      No         No       9           Yes  ...   \n",
       "2    Male               0      No         No       4           Yes  ...   \n",
       "3    Male               1     Yes         No      13           Yes  ...   \n",
       "4  Female               1     Yes         No       3           Yes  ...   \n",
       "\n",
       "  tech_support streaming_tv streaming_movies paperless_billing  \\\n",
       "0          Yes          Yes               No               Yes   \n",
       "1           No           No              Yes                No   \n",
       "2           No           No               No               Yes   \n",
       "3           No          Yes              Yes               Yes   \n",
       "4          Yes          Yes               No               Yes   \n",
       "\n",
       "  monthly_charges total_charges churn   contract_type  internet_service_type  \\\n",
       "0            65.6         593.3    No        One year                    DSL   \n",
       "1            59.9         542.4    No  Month-to-month                    DSL   \n",
       "2            73.9        280.85   Yes  Month-to-month            Fiber optic   \n",
       "3            98.0       1237.85   Yes  Month-to-month            Fiber optic   \n",
       "4            83.9         267.4   Yes  Month-to-month            Fiber optic   \n",
       "\n",
       "       payment_type  \n",
       "0      Mailed check  \n",
       "1      Mailed check  \n",
       "2  Electronic check  \n",
       "3  Electronic check  \n",
       "4      Mailed check  \n",
       "\n",
       "[5 rows x 24 columns]"
      ]
     },
     "execution_count": 2,
     "metadata": {},
     "output_type": "execute_result"
    }
   ],
   "source": [
    "#use the get_telco_data function to pull the dataset\n",
    "df = get_telco_data()\n",
    "#view the first five rows of data\n",
    "df.head()"
   ]
  },
  {
   "cell_type": "markdown",
   "id": "49e716de",
   "metadata": {},
   "source": [
    "##### Cleaning and Splitting the project dataset\n",
    "- The data preparation function for this project is located in the included prepare.py file\n",
    "\n",
    "- The data preparation function is called 'prep_telco' and has the following attributes:\n",
    "\n",
    "    - It first deals with the white space cells in the 'total_charges' column by replacing them with the numpy special character 'NaN' and casting it as a float data type so that python can run calls on the column without having a data type descrepancy.\n",
    "    \n",
    "    - It drops the three foregin key id columns ('payment_type_id', 'internet_service_type_id', 'contract_type_id') that were part of the relational database tables but are not needed for the project.\n",
    "    \n",
    "    - It modifies the 'churn' column by changing the string values to integer values ('yes' to 1 and 'no' to 0) so that python can run computations on the column\n",
    "    \n",
    "    - It encodes the categorical columns using pandas by creating bianary dummie variables that can be used with machine learning models\n",
    "    \n",
    "    - It renames the encode columns for payment type because the concatenated column titles included parenthesis which cause problems when writing them into python code\n",
    "    \n",
    "    - It then splits the dataset by rows into three parts (train, validate, and test) so that the data exploration, model development, and model training can be done with the train set, then the models can be evaluated with a new set of observations (validate), and the final machine learning model can be tested with the third set of observaitons (test) this helps prevent overfitting the model and helps the model accurately generalize to new data moving forward.\n",
    "    \n",
    "- The prep_telco function splits the data into 80% for the train/validate set and 20% for the test set then splits the train/validate set into 70% for train and 30% for validate"
   ]
  },
  {
   "cell_type": "code",
   "execution_count": 3,
   "id": "b5607596",
   "metadata": {},
   "outputs": [
    {
     "data": {
      "text/plain": [
       "((3943, 47), (1691, 47), (1409, 47))"
      ]
     },
     "execution_count": 3,
     "metadata": {},
     "output_type": "execute_result"
    }
   ],
   "source": [
    "#use the prep_telco function from the prepare.py (imported above) to clean and split the data\n",
    "train, validate, test = prep_telco(df)\n",
    "#verify the data split\n",
    "train.shape, validate.shape, test.shape"
   ]
  },
  {
   "cell_type": "code",
   "execution_count": 4,
   "id": "0adae334",
   "metadata": {},
   "outputs": [
    {
     "data": {
      "text/html": [
       "<div>\n",
       "<style scoped>\n",
       "    .dataframe tbody tr th:only-of-type {\n",
       "        vertical-align: middle;\n",
       "    }\n",
       "\n",
       "    .dataframe tbody tr th {\n",
       "        vertical-align: top;\n",
       "    }\n",
       "\n",
       "    .dataframe thead th {\n",
       "        text-align: right;\n",
       "    }\n",
       "</style>\n",
       "<table border=\"1\" class=\"dataframe\">\n",
       "  <thead>\n",
       "    <tr style=\"text-align: right;\">\n",
       "      <th></th>\n",
       "      <th>customer_id</th>\n",
       "      <th>gender</th>\n",
       "      <th>senior_citizen</th>\n",
       "      <th>partner</th>\n",
       "      <th>dependents</th>\n",
       "      <th>tenure</th>\n",
       "      <th>phone_service</th>\n",
       "      <th>multiple_lines</th>\n",
       "      <th>online_security</th>\n",
       "      <th>online_backup</th>\n",
       "      <th>...</th>\n",
       "      <th>streaming_movies_No internet service</th>\n",
       "      <th>streaming_movies_Yes</th>\n",
       "      <th>paperless_billing_Yes</th>\n",
       "      <th>contract_type_One year</th>\n",
       "      <th>contract_type_Two year</th>\n",
       "      <th>internet_service_type_Fiber optic</th>\n",
       "      <th>internet_service_type_None</th>\n",
       "      <th>pay_credit</th>\n",
       "      <th>pay_elec</th>\n",
       "      <th>pay_mail</th>\n",
       "    </tr>\n",
       "  </thead>\n",
       "  <tbody>\n",
       "    <tr>\n",
       "      <th>5310</th>\n",
       "      <td>7503-MIOGA</td>\n",
       "      <td>Female</td>\n",
       "      <td>1</td>\n",
       "      <td>Yes</td>\n",
       "      <td>No</td>\n",
       "      <td>72</td>\n",
       "      <td>Yes</td>\n",
       "      <td>Yes</td>\n",
       "      <td>Yes</td>\n",
       "      <td>Yes</td>\n",
       "      <td>...</td>\n",
       "      <td>0</td>\n",
       "      <td>1</td>\n",
       "      <td>1</td>\n",
       "      <td>0</td>\n",
       "      <td>1</td>\n",
       "      <td>0</td>\n",
       "      <td>0</td>\n",
       "      <td>0</td>\n",
       "      <td>0</td>\n",
       "      <td>0</td>\n",
       "    </tr>\n",
       "    <tr>\n",
       "      <th>3790</th>\n",
       "      <td>5329-KRDTM</td>\n",
       "      <td>Male</td>\n",
       "      <td>1</td>\n",
       "      <td>Yes</td>\n",
       "      <td>No</td>\n",
       "      <td>72</td>\n",
       "      <td>Yes</td>\n",
       "      <td>Yes</td>\n",
       "      <td>No</td>\n",
       "      <td>Yes</td>\n",
       "      <td>...</td>\n",
       "      <td>0</td>\n",
       "      <td>0</td>\n",
       "      <td>0</td>\n",
       "      <td>0</td>\n",
       "      <td>1</td>\n",
       "      <td>0</td>\n",
       "      <td>0</td>\n",
       "      <td>1</td>\n",
       "      <td>0</td>\n",
       "      <td>0</td>\n",
       "    </tr>\n",
       "    <tr>\n",
       "      <th>4398</th>\n",
       "      <td>6199-IWKGC</td>\n",
       "      <td>Female</td>\n",
       "      <td>1</td>\n",
       "      <td>Yes</td>\n",
       "      <td>No</td>\n",
       "      <td>46</td>\n",
       "      <td>Yes</td>\n",
       "      <td>Yes</td>\n",
       "      <td>No</td>\n",
       "      <td>No</td>\n",
       "      <td>...</td>\n",
       "      <td>0</td>\n",
       "      <td>1</td>\n",
       "      <td>0</td>\n",
       "      <td>1</td>\n",
       "      <td>0</td>\n",
       "      <td>1</td>\n",
       "      <td>0</td>\n",
       "      <td>0</td>\n",
       "      <td>1</td>\n",
       "      <td>0</td>\n",
       "    </tr>\n",
       "    <tr>\n",
       "      <th>2635</th>\n",
       "      <td>3748-FVMZZ</td>\n",
       "      <td>Male</td>\n",
       "      <td>0</td>\n",
       "      <td>No</td>\n",
       "      <td>No</td>\n",
       "      <td>4</td>\n",
       "      <td>No</td>\n",
       "      <td>No phone service</td>\n",
       "      <td>No</td>\n",
       "      <td>No</td>\n",
       "      <td>...</td>\n",
       "      <td>0</td>\n",
       "      <td>1</td>\n",
       "      <td>1</td>\n",
       "      <td>0</td>\n",
       "      <td>0</td>\n",
       "      <td>0</td>\n",
       "      <td>0</td>\n",
       "      <td>0</td>\n",
       "      <td>1</td>\n",
       "      <td>0</td>\n",
       "    </tr>\n",
       "    <tr>\n",
       "      <th>2986</th>\n",
       "      <td>4280-DLSHD</td>\n",
       "      <td>Male</td>\n",
       "      <td>0</td>\n",
       "      <td>Yes</td>\n",
       "      <td>No</td>\n",
       "      <td>8</td>\n",
       "      <td>Yes</td>\n",
       "      <td>No</td>\n",
       "      <td>No</td>\n",
       "      <td>Yes</td>\n",
       "      <td>...</td>\n",
       "      <td>0</td>\n",
       "      <td>0</td>\n",
       "      <td>1</td>\n",
       "      <td>0</td>\n",
       "      <td>0</td>\n",
       "      <td>0</td>\n",
       "      <td>0</td>\n",
       "      <td>0</td>\n",
       "      <td>0</td>\n",
       "      <td>1</td>\n",
       "    </tr>\n",
       "  </tbody>\n",
       "</table>\n",
       "<p>5 rows × 47 columns</p>\n",
       "</div>"
      ],
      "text/plain": [
       "     customer_id  gender  senior_citizen partner dependents  tenure  \\\n",
       "5310  7503-MIOGA  Female               1     Yes         No      72   \n",
       "3790  5329-KRDTM    Male               1     Yes         No      72   \n",
       "4398  6199-IWKGC  Female               1     Yes         No      46   \n",
       "2635  3748-FVMZZ    Male               0      No         No       4   \n",
       "2986  4280-DLSHD    Male               0     Yes         No       8   \n",
       "\n",
       "     phone_service    multiple_lines online_security online_backup  ...  \\\n",
       "5310           Yes               Yes             Yes           Yes  ...   \n",
       "3790           Yes               Yes              No           Yes  ...   \n",
       "4398           Yes               Yes              No            No  ...   \n",
       "2635            No  No phone service              No            No  ...   \n",
       "2986           Yes                No              No           Yes  ...   \n",
       "\n",
       "     streaming_movies_No internet service streaming_movies_Yes  \\\n",
       "5310                                    0                    1   \n",
       "3790                                    0                    0   \n",
       "4398                                    0                    1   \n",
       "2635                                    0                    1   \n",
       "2986                                    0                    0   \n",
       "\n",
       "     paperless_billing_Yes contract_type_One year contract_type_Two year  \\\n",
       "5310                     1                      0                      1   \n",
       "3790                     0                      0                      1   \n",
       "4398                     0                      1                      0   \n",
       "2635                     1                      0                      0   \n",
       "2986                     1                      0                      0   \n",
       "\n",
       "      internet_service_type_Fiber optic  internet_service_type_None  \\\n",
       "5310                                  0                           0   \n",
       "3790                                  0                           0   \n",
       "4398                                  1                           0   \n",
       "2635                                  0                           0   \n",
       "2986                                  0                           0   \n",
       "\n",
       "      pay_credit pay_elec pay_mail  \n",
       "5310           0        0        0  \n",
       "3790           1        0        0  \n",
       "4398           0        1        0  \n",
       "2635           0        1        0  \n",
       "2986           0        0        1  \n",
       "\n",
       "[5 rows x 47 columns]"
      ]
     },
     "execution_count": 4,
     "metadata": {},
     "output_type": "execute_result"
    }
   ],
   "source": [
    "#view the first 5 rows of the train set to verify the cleaned data\n",
    "train.head()"
   ]
  },
  {
   "cell_type": "markdown",
   "id": "474fcc95",
   "metadata": {},
   "source": [
    "### Data Exploration"
   ]
  },
  {
   "cell_type": "markdown",
   "id": "3d5e755b",
   "metadata": {},
   "source": [
    "**Question 1** - Is the customer's choice of payment type related to customer churn?"
   ]
  },
  {
   "cell_type": "markdown",
   "id": "1e181102",
   "metadata": {},
   "source": [
    "##### Visualize the data"
   ]
  },
  {
   "cell_type": "code",
   "execution_count": 5,
   "id": "2beaf0b1",
   "metadata": {},
   "outputs": [
    {
     "data": {
      "image/png": "[encoded data removed]",
      "text/plain": [
       "<Figure size 432x288 with 1 Axes>"
      ]
     },
     "metadata": {
      "needs_background": "light"
     },
     "output_type": "display_data"
    }
   ],
   "source": [
    "#assign a variable for the overall customer churn rate\n",
    "churn_mean = train.churn.mean()\n",
    "#create a bar plot with payment type as the x axis, churn rate as the y axis \n",
    "#and mean churn rate for each category displayed by the bars\n",
    "sns.barplot(x='payment_type', y='churn', data=train)\n",
    "#add the overall churn value as a line across the bars for comparison\n",
    "plt.axhline(churn_mean, label='Overall Churn Rate', linestyle='--')\n",
    "#set the plot labels\n",
    "plt.ylabel('Churn Rate')\n",
    "plt.xlabel('Payment Type')\n",
    "#rotate the bar labels so the long labels can be read\n",
    "plt.xticks(rotation=45)\n",
    "#show the plot legend\n",
    "plt.legend()\n",
    "#show the plot\n",
    "plt.show()\n",
    "#the whiskers on top of the bar represent a confidence interval calculated by seaborn"
   ]
  },
  {
   "cell_type": "markdown",
   "id": "453b063b",
   "metadata": {},
   "source": [
    "**Hypothesis:**\n",
    "\n",
    "- H0: Payment type is independent of customer churn\n",
    "\n",
    "- Ha: Payment type is not independent of customer churn"
   ]
  },
  {
   "cell_type": "markdown",
   "id": "c443fd94",
   "metadata": {},
   "source": [
    "##### Statistical testing - Chi-2"
   ]
  },
  {
   "cell_type": "code",
   "execution_count": 6,
   "id": "6b2ec88c",
   "metadata": {},
   "outputs": [
    {
     "data": {
      "text/html": [
       "<div>\n",
       "<style scoped>\n",
       "    .dataframe tbody tr th:only-of-type {\n",
       "        vertical-align: middle;\n",
       "    }\n",
       "\n",
       "    .dataframe tbody tr th {\n",
       "        vertical-align: top;\n",
       "    }\n",
       "\n",
       "    .dataframe thead th {\n",
       "        text-align: right;\n",
       "    }\n",
       "</style>\n",
       "<table border=\"1\" class=\"dataframe\">\n",
       "  <thead>\n",
       "    <tr style=\"text-align: right;\">\n",
       "      <th>payment_type</th>\n",
       "      <th>Bank transfer (automatic)</th>\n",
       "      <th>Credit card (automatic)</th>\n",
       "      <th>Electronic check</th>\n",
       "      <th>Mailed check</th>\n",
       "    </tr>\n",
       "    <tr>\n",
       "      <th>churn</th>\n",
       "      <th></th>\n",
       "      <th></th>\n",
       "      <th></th>\n",
       "      <th></th>\n",
       "    </tr>\n",
       "  </thead>\n",
       "  <tbody>\n",
       "    <tr>\n",
       "      <th>0</th>\n",
       "      <td>738</td>\n",
       "      <td>727</td>\n",
       "      <td>731</td>\n",
       "      <td>701</td>\n",
       "    </tr>\n",
       "    <tr>\n",
       "      <th>1</th>\n",
       "      <td>135</td>\n",
       "      <td>138</td>\n",
       "      <td>597</td>\n",
       "      <td>176</td>\n",
       "    </tr>\n",
       "  </tbody>\n",
       "</table>\n",
       "</div>"
      ],
      "text/plain": [
       "payment_type  Bank transfer (automatic)  Credit card (automatic)  \\\n",
       "churn                                                              \n",
       "0                                   738                      727   \n",
       "1                                   135                      138   \n",
       "\n",
       "payment_type  Electronic check  Mailed check  \n",
       "churn                                         \n",
       "0                          731           701  \n",
       "1                          597           176  "
      ]
     },
     "execution_count": 6,
     "metadata": {},
     "output_type": "execute_result"
    }
   ],
   "source": [
    "#cross tabulate the data so relational comparisons can be made\n",
    "pay_cross = pd.crosstab(train.churn, train.payment_type)\n",
    "#view the cross tabulated data\n",
    "pay_cross"
   ]
  },
  {
   "cell_type": "code",
   "execution_count": 7,
   "id": "ba385c36",
   "metadata": {},
   "outputs": [
    {
     "name": "stdout",
     "output_type": "stream",
     "text": [
      "Observed\n",
      "\n",
      "[[738 727 731 701]\n",
      " [135 138 597 176]]\n",
      "-------------------\n",
      "Expected\n",
      "\n",
      "[[641 635 975 644]\n",
      " [231 229 352 232]]\n",
      "-------------------\n",
      "\n",
      "chi^2 = 354.5801\n",
      "p     = 0.0000\n",
      "-------------------\n",
      "\n",
      "We reject the null hypothesis because payment type is not independent of customer churn\n"
     ]
    }
   ],
   "source": [
    "#run the chi-2 test on the above cross tabulated data\n",
    "chi2, p, degf, expected = stats.chi2_contingency(pay_cross)\n",
    "#print the results\n",
    "print('Observed\\n')\n",
    "print(pay_cross.values)\n",
    "print('-------------------\\nExpected\\n')\n",
    "print(expected.astype(int))\n",
    "print('-------------------\\n')\n",
    "print(f'chi^2 = {chi2:.4f}')\n",
    "print(f'p     = {p:.4f}')\n",
    "print('-------------------\\n')\n",
    "alpha = 0.01\n",
    "if p < alpha:\n",
    "    print('We reject the null hypothesis because payment type is not independent of customer churn')"
   ]
  },
  {
   "cell_type": "markdown",
   "id": "7b6dac7c",
   "metadata": {},
   "source": [
    "\n",
    "**Question 1 Takeaways:**\n",
    "- Customers with the electronic check payment method had a higher churn rate than those with other payment methods and a higher churn rate than the overall customer churn rate.\n",
    "\n",
    "- Statistical testing showed that customer payment type is not independent of customer churn rate"
   ]
  },
  {
   "cell_type": "markdown",
   "id": "cdcb119c",
   "metadata": {},
   "source": [
    "---"
   ]
  },
  {
   "cell_type": "markdown",
   "id": "979d41e1",
   "metadata": {},
   "source": [
    "**Question 2** - Is the customer's internet service type related to customer churn"
   ]
  },
  {
   "cell_type": "markdown",
   "id": "7e456145",
   "metadata": {},
   "source": [
    "##### Visualize the data"
   ]
  },
  {
   "cell_type": "code",
   "execution_count": 8,
   "id": "6b5b9a48",
   "metadata": {},
   "outputs": [
    {
     "data": {
      "image/png": "[encoded data removed]",
      "text/plain": [
       "<Figure size 432x288 with 1 Axes>"
      ]
     },
     "metadata": {
      "needs_background": "light"
     },
     "output_type": "display_data"
    }
   ],
   "source": [
    "#assign a variable for the overall customer churn rate\n",
    "churn_mean = train.churn.mean()\n",
    "#create a barplot with internet service type on the x axis, churn rate on the y axis \n",
    "#and mean churn rate for each category displayed by the bars\n",
    "sns.barplot(x='internet_service_type', y='churn', data=train)\n",
    "#add the overall churn value as a line across the bars for comparison\n",
    "plt.axhline(churn_mean, label='Overall Churn Rate', linestyle='--')\n",
    "#add labels to the x and y axis\n",
    "plt.ylabel('Churn Rate')\n",
    "plt.xlabel('Internet Service Type')\n",
    "#show the plot legend\n",
    "plt.legend()\n",
    "#show the plot\n",
    "plt.show()\n",
    "#the whiskers on top of the bar represent a confidence interval calculated by seaborn"
   ]
  },
  {
   "cell_type": "markdown",
   "id": "980bed0b",
   "metadata": {},
   "source": [
    "**Hypothesis:**\n",
    "\n",
    "- H0: Internet service type is independent of customer churn\n",
    "\n",
    "- Ha: Internet service type is not independent of customer churn"
   ]
  },
  {
   "cell_type": "markdown",
   "id": "cb87a91b",
   "metadata": {},
   "source": [
    "##### Statistical testing - Chi-2"
   ]
  },
  {
   "cell_type": "code",
   "execution_count": 9,
   "id": "b74ded1c",
   "metadata": {},
   "outputs": [
    {
     "data": {
      "text/html": [
       "<div>\n",
       "<style scoped>\n",
       "    .dataframe tbody tr th:only-of-type {\n",
       "        vertical-align: middle;\n",
       "    }\n",
       "\n",
       "    .dataframe tbody tr th {\n",
       "        vertical-align: top;\n",
       "    }\n",
       "\n",
       "    .dataframe thead th {\n",
       "        text-align: right;\n",
       "    }\n",
       "</style>\n",
       "<table border=\"1\" class=\"dataframe\">\n",
       "  <thead>\n",
       "    <tr style=\"text-align: right;\">\n",
       "      <th>internet_service_type</th>\n",
       "      <th>DSL</th>\n",
       "      <th>Fiber optic</th>\n",
       "      <th>None</th>\n",
       "    </tr>\n",
       "    <tr>\n",
       "      <th>churn</th>\n",
       "      <th></th>\n",
       "      <th></th>\n",
       "      <th></th>\n",
       "    </tr>\n",
       "  </thead>\n",
       "  <tbody>\n",
       "    <tr>\n",
       "      <th>0</th>\n",
       "      <td>1095</td>\n",
       "      <td>1019</td>\n",
       "      <td>783</td>\n",
       "    </tr>\n",
       "    <tr>\n",
       "      <th>1</th>\n",
       "      <td>254</td>\n",
       "      <td>726</td>\n",
       "      <td>66</td>\n",
       "    </tr>\n",
       "  </tbody>\n",
       "</table>\n",
       "</div>"
      ],
      "text/plain": [
       "internet_service_type   DSL  Fiber optic  None\n",
       "churn                                         \n",
       "0                      1095         1019   783\n",
       "1                       254          726    66"
      ]
     },
     "execution_count": 9,
     "metadata": {},
     "output_type": "execute_result"
    }
   ],
   "source": [
    "#cross tabulate the data so relational comparisons can be made\n",
    "internet_cross = pd.crosstab(train.churn, train.internet_service_type)\n",
    "#view the cross tabulated data\n",
    "internet_cross"
   ]
  },
  {
   "cell_type": "code",
   "execution_count": 10,
   "id": "e13448ed",
   "metadata": {},
   "outputs": [
    {
     "name": "stdout",
     "output_type": "stream",
     "text": [
      "Observed\n",
      "\n",
      "[[1095 1019  783]\n",
      " [ 254  726   66]]\n",
      "-------------------\n",
      "Expected\n",
      "\n",
      "[[ 991 1282  623]\n",
      " [ 357  462  225]]\n",
      "-------------------\n",
      "\n",
      "chi^2 = 397.7389\n",
      "p     = 0.0000\n",
      "-------------------\n",
      "\n",
      "We reject the null hypothesis because internet service type is not independent of customer churn\n"
     ]
    }
   ],
   "source": [
    "#run the chi-2 test on the above cross tabulated data\n",
    "chi2, p, degf, expected = stats.chi2_contingency(internet_cross)\n",
    "#print the results\n",
    "print('Observed\\n')\n",
    "print(internet_cross.values)\n",
    "print('-------------------\\nExpected\\n')\n",
    "print(expected.astype(int))\n",
    "print('-------------------\\n')\n",
    "print(f'chi^2 = {chi2:.4f}')\n",
    "print(f'p     = {p:.4f}')\n",
    "print('-------------------\\n')\n",
    "alpha = 0.01\n",
    "if p < alpha:\n",
    "    print('We reject the null hypothesis because internet service type is not independent of customer churn')"
   ]
  },
  {
   "cell_type": "markdown",
   "id": "f7ed3757",
   "metadata": {},
   "source": [
    "\n",
    "**Question 2 Takeaways:**\n",
    "- Customers with fiber optic internet service had a higher curn rate than those with other internet service types and a higher churn rate than the overall customer churn rate\n",
    "\n",
    "- Statistical testing showed that customer internet service type is not independent of customer churn rate"
   ]
  },
  {
   "cell_type": "markdown",
   "id": "d08987b6",
   "metadata": {},
   "source": [
    "---"
   ]
  },
  {
   "cell_type": "markdown",
   "id": "5c5a0da3",
   "metadata": {},
   "source": [
    "**Question 3** - Is customer participation in our support and back up programs related to customer churn"
   ]
  },
  {
   "cell_type": "markdown",
   "id": "69f73436",
   "metadata": {},
   "source": [
    "##### Visualize the data"
   ]
  },
  {
   "cell_type": "code",
   "execution_count": 11,
   "id": "9cbe1a6c",
   "metadata": {},
   "outputs": [
    {
     "data": {
      "image/png": "[encoded data removed]",
      "text/plain": [
       "<Figure size 720x576 with 2 Axes>"
      ]
     },
     "metadata": {
      "needs_background": "light"
     },
     "output_type": "display_data"
    }
   ],
   "source": [
    "#assign a variable for the overall customer churn rate\n",
    "churn_mean = train.churn.mean()\n",
    "#create subplots so two plots can be displayed side by side\n",
    "fig, ax = plt.subplots(ncols=2, sharey=True, figsize = (10,8))\n",
    "#create a barplot with tech support participation on the x axis and churn rate on the y axis\n",
    "sns.barplot(x='tech_support', y='churn', data=train, ax=ax[0])\n",
    "#create a barplot with online backup participation on the x axis and churn rate in the y axis\n",
    "sns.barplot(x='online_backup', y='churn', data=train, ax=ax[1])\n",
    "#add overall churn rate lines to both plots\n",
    "ax[0].axhline(churn_mean, label='Overall Churn Rate', linestyle='--')\n",
    "plt.axhline(churn_mean, label='Overall Churn Rate', linestyle='--')\n",
    "#add axis labels to both plots\n",
    "ax[0].set_xlabel('Tech Support')\n",
    "ax[0].set_ylabel('Churn Rate')\n",
    "plt.xlabel('Online Backup')\n",
    "plt.ylabel('')\n",
    "#show the plot legend\n",
    "plt.legend()\n",
    "#show the plot\n",
    "plt.show()"
   ]
  },
  {
   "cell_type": "markdown",
   "id": "6be55b81",
   "metadata": {},
   "source": [
    "**Hypothesis:**\n",
    "\n",
    "- H0: Customer participation in our support and backup programs is independent of customer churn\n",
    "\n",
    "- Ha: customer participation in our support and backup programs is not independent of customer churn"
   ]
  },
  {
   "cell_type": "markdown",
   "id": "81b6264d",
   "metadata": {},
   "source": [
    "##### Statistical testing - Chi-2"
   ]
  },
  {
   "cell_type": "code",
   "execution_count": 12,
   "id": "cd195d95",
   "metadata": {},
   "outputs": [
    {
     "data": {
      "text/html": [
       "<div>\n",
       "<style scoped>\n",
       "    .dataframe tbody tr th:only-of-type {\n",
       "        vertical-align: middle;\n",
       "    }\n",
       "\n",
       "    .dataframe tbody tr th {\n",
       "        vertical-align: top;\n",
       "    }\n",
       "\n",
       "    .dataframe thead th {\n",
       "        text-align: right;\n",
       "    }\n",
       "</style>\n",
       "<table border=\"1\" class=\"dataframe\">\n",
       "  <thead>\n",
       "    <tr style=\"text-align: right;\">\n",
       "      <th>tech_support</th>\n",
       "      <th>No</th>\n",
       "      <th>No internet service</th>\n",
       "      <th>Yes</th>\n",
       "    </tr>\n",
       "    <tr>\n",
       "      <th>churn</th>\n",
       "      <th></th>\n",
       "      <th></th>\n",
       "      <th></th>\n",
       "    </tr>\n",
       "  </thead>\n",
       "  <tbody>\n",
       "    <tr>\n",
       "      <th>0</th>\n",
       "      <td>1146</td>\n",
       "      <td>783</td>\n",
       "      <td>968</td>\n",
       "    </tr>\n",
       "    <tr>\n",
       "      <th>1</th>\n",
       "      <td>793</td>\n",
       "      <td>66</td>\n",
       "      <td>187</td>\n",
       "    </tr>\n",
       "  </tbody>\n",
       "</table>\n",
       "</div>"
      ],
      "text/plain": [
       "tech_support    No  No internet service  Yes\n",
       "churn                                       \n",
       "0             1146                  783  968\n",
       "1              793                   66  187"
      ]
     },
     "execution_count": 12,
     "metadata": {},
     "output_type": "execute_result"
    }
   ],
   "source": [
    "#cross tabulate the data so relational comparisons can be made\n",
    "tech_cross = pd.crosstab(train.churn, train.tech_support)\n",
    "#view the cross tabulated data\n",
    "tech_cross"
   ]
  },
  {
   "cell_type": "code",
   "execution_count": 13,
   "id": "7bf37302",
   "metadata": {},
   "outputs": [
    {
     "name": "stdout",
     "output_type": "stream",
     "text": [
      "Observed\n",
      "\n",
      "[[1146  783  968]\n",
      " [ 793   66  187]]\n",
      "-------------------\n",
      "Expected\n",
      "\n",
      "[[1424  623  848]\n",
      " [ 514  225  306]]\n",
      "-------------------\n",
      "\n",
      "chi^2 = 421.9453\n",
      "p     = 0.0000\n",
      "-------------------\n",
      "\n",
      "We reject the null hypothesis because participating in the tech support program is not independent of customer churn\n"
     ]
    }
   ],
   "source": [
    "#run the chi-2 test on the above cross tabulated data\n",
    "chi2, p, degf, expected = stats.chi2_contingency(tech_cross)\n",
    "#print the results\n",
    "print('Observed\\n')\n",
    "print(tech_cross.values)\n",
    "print('-------------------\\nExpected\\n')\n",
    "print(expected.astype(int))\n",
    "print('-------------------\\n')\n",
    "print(f'chi^2 = {chi2:.4f}')\n",
    "print(f'p     = {p:.4f}')\n",
    "print('-------------------\\n')\n",
    "alpha = 0.01\n",
    "if p < alpha:\n",
    "    print('We reject the null hypothesis because participating in the tech support program is not independent of customer churn')"
   ]
  },
  {
   "cell_type": "markdown",
   "id": "b36199b0",
   "metadata": {},
   "source": [
    "\n",
    "**Question 3 Takeaways:**\n",
    "- Customers who do not participate in our tech support and/or our online backup programs had a higher churn rate than those that did participate and a higher churn rate than the overall customer churn rate\n",
    "\n",
    "- Statistical testing showed that customer participation in our support and backup programs is not independent of customer churn rate"
   ]
  },
  {
   "cell_type": "markdown",
   "id": "1e4d0fe5",
   "metadata": {},
   "source": [
    "---"
   ]
  },
  {
   "cell_type": "markdown",
   "id": "c2bc051d",
   "metadata": {},
   "source": [
    "**Question 4** - Is customer participation in our security and protection programs related to customer churn rate?"
   ]
  },
  {
   "cell_type": "markdown",
   "id": "70dbae9e",
   "metadata": {},
   "source": [
    "##### Visualize the data"
   ]
  },
  {
   "cell_type": "code",
   "execution_count": 14,
   "id": "2f3907d4",
   "metadata": {},
   "outputs": [
    {
     "data": {
      "image/png": "[encoded data removed]",
      "text/plain": [
       "<Figure size 720x576 with 2 Axes>"
      ]
     },
     "metadata": {
      "needs_background": "light"
     },
     "output_type": "display_data"
    }
   ],
   "source": [
    "#assign a variable for the overall customer churn rate\n",
    "churn_mean = train.churn.mean()\n",
    "#create subplots so two plots can be displayed side by side\n",
    "fig, ax = plt.subplots(ncols=2, sharey=True, figsize = (10,8))\n",
    "#create a barplot with online security participation on the x axis and churn rate on the y axis\n",
    "sns.barplot(x='online_security', y='churn', data=train, ax=ax[0])\n",
    "#create a barplot with device protection participation on the x axis and churn rate in the y axis\n",
    "sns.barplot(x='device_protection', y='churn', data=train, ax=ax[1])\n",
    "#add overall churn rate lines to both plots\n",
    "ax[0].axhline(churn_mean, label='Overall Churn Rate', linestyle='--')\n",
    "plt.axhline(churn_mean, label='Overall Churn Rate', linestyle='--')\n",
    "#add axis labels to both plots\n",
    "ax[0].set_xlabel('Online Security')\n",
    "ax[0].set_ylabel('Churn Rate')\n",
    "plt.xlabel('Device Protection')\n",
    "plt.ylabel('')\n",
    "#show the plot legend\n",
    "plt.legend()\n",
    "#show the plot\n",
    "plt.show()"
   ]
  },
  {
   "cell_type": "markdown",
   "id": "15ea6e4e",
   "metadata": {},
   "source": [
    "**Hypothesis:**\n",
    "\n",
    "- H0: Customer participation in our security and protection programs is independent of customer churn\n",
    "\n",
    "- Ha: customer participation in our security and protection programs is not independent of customer churn"
   ]
  },
  {
   "cell_type": "markdown",
   "id": "6d63ca75",
   "metadata": {},
   "source": [
    "##### Statistical testing - Chi-2"
   ]
  },
  {
   "cell_type": "code",
   "execution_count": 15,
   "id": "fd288356",
   "metadata": {},
   "outputs": [
    {
     "data": {
      "text/html": [
       "<div>\n",
       "<style scoped>\n",
       "    .dataframe tbody tr th:only-of-type {\n",
       "        vertical-align: middle;\n",
       "    }\n",
       "\n",
       "    .dataframe tbody tr th {\n",
       "        vertical-align: top;\n",
       "    }\n",
       "\n",
       "    .dataframe thead th {\n",
       "        text-align: right;\n",
       "    }\n",
       "</style>\n",
       "<table border=\"1\" class=\"dataframe\">\n",
       "  <thead>\n",
       "    <tr style=\"text-align: right;\">\n",
       "      <th>online_security</th>\n",
       "      <th>No</th>\n",
       "      <th>No internet service</th>\n",
       "      <th>Yes</th>\n",
       "    </tr>\n",
       "    <tr>\n",
       "      <th>churn</th>\n",
       "      <th></th>\n",
       "      <th></th>\n",
       "      <th></th>\n",
       "    </tr>\n",
       "  </thead>\n",
       "  <tbody>\n",
       "    <tr>\n",
       "      <th>0</th>\n",
       "      <td>1145</td>\n",
       "      <td>783</td>\n",
       "      <td>969</td>\n",
       "    </tr>\n",
       "    <tr>\n",
       "      <th>1</th>\n",
       "      <td>801</td>\n",
       "      <td>66</td>\n",
       "      <td>179</td>\n",
       "    </tr>\n",
       "  </tbody>\n",
       "</table>\n",
       "</div>"
      ],
      "text/plain": [
       "online_security    No  No internet service  Yes\n",
       "churn                                          \n",
       "0                1145                  783  969\n",
       "1                 801                   66  179"
      ]
     },
     "execution_count": 15,
     "metadata": {},
     "output_type": "execute_result"
    }
   ],
   "source": [
    "#cross tabulate the data so relational comparisons can be made\n",
    "secur_cross = pd.crosstab(train.churn, train.online_security)\n",
    "#view the cross tabulated data\n",
    "secur_cross"
   ]
  },
  {
   "cell_type": "code",
   "execution_count": 16,
   "id": "e394ef4a",
   "metadata": {},
   "outputs": [
    {
     "name": "stdout",
     "output_type": "stream",
     "text": [
      "Observed\n",
      "\n",
      "[[1095 1019  783]\n",
      " [ 254  726   66]]\n",
      "-------------------\n",
      "Expected\n",
      "\n",
      "[[1429  623  843]\n",
      " [ 516  225  304]]\n",
      "-------------------\n",
      "\n",
      "chi^2 = 437.4420\n",
      "p     = 0.0000\n",
      "-------------------\n",
      "\n",
      "We reject the null hypothesis because participation in our security and protection programs is not independent of customer churn\n"
     ]
    }
   ],
   "source": [
    "#run the chi-2 test on the above cross tabulated data\n",
    "chi2, p, degf, expected = stats.chi2_contingency(secur_cross)\n",
    "#view the results\n",
    "print('Observed\\n')\n",
    "print(internet_cross.values)\n",
    "print('-------------------\\nExpected\\n')\n",
    "print(expected.astype(int))\n",
    "print('-------------------\\n')\n",
    "print(f'chi^2 = {chi2:.4f}')\n",
    "print(f'p     = {p:.4f}')\n",
    "print('-------------------\\n')\n",
    "alpha = 0.01\n",
    "if p < alpha:\n",
    "    print('We reject the null hypothesis because participation in our security and protection programs is not independent of customer churn')"
   ]
  },
  {
   "cell_type": "markdown",
   "id": "dd9b692e",
   "metadata": {},
   "source": [
    "\n",
    "**Question 4 Takeaways:**\n",
    "- Customers who do not participate in our online security and/or our device protection programs had a higher churn rate than those that did participate and a higher churn rate than the overall customer churn rate\n",
    "\n",
    "- Statistical testing showed that customer participation in our security and protection programs is not independent of customer churn rate"
   ]
  },
  {
   "cell_type": "markdown",
   "id": "b4a3d4d0",
   "metadata": {},
   "source": [
    "---"
   ]
  },
  {
   "cell_type": "markdown",
   "id": "557d14e9",
   "metadata": {},
   "source": [
    "### Data Modeling"
   ]
  },
  {
   "cell_type": "markdown",
   "id": "0721797e",
   "metadata": {},
   "source": [
    "**Training and Validating the models**\n",
    "- Features to be used in the modeling phase were selected using the most significant variables related to customer churn found during visualization and statistical testing in the exploration phase"
   ]
  },
  {
   "cell_type": "code",
   "execution_count": 17,
   "id": "6b170c38",
   "metadata": {},
   "outputs": [],
   "source": [
    "#assign the selected features to a variable that can be used in the modeling phase\n",
    "x_cols = ['tech_support_No internet service', \n",
    "          'tech_support_Yes', 'online_security_No internet service', \n",
    "          'online_backup_No internet service', 'online_security_Yes', 'online_backup_Yes', \n",
    "          'device_protection_No internet service', 'device_protection_Yes', 'internet_service_type_Fiber optic', \n",
    "          'internet_service_type_None', 'pay_credit', 'pay_mail', 'pay_elec']"
   ]
  },
  {
   "cell_type": "code",
   "execution_count": 18,
   "id": "45eae202",
   "metadata": {},
   "outputs": [],
   "source": [
    "#assign x and y variables for the train dataset\n",
    "x_train = train[x_cols]\n",
    "y_train = train[['churn']]\n",
    "#assign x and y variables for the validate dataset\n",
    "x_val = validate[x_cols]\n",
    "y_val = validate[['churn']]\n",
    "#assign x and y variables for the test dataset\n",
    "x_test = test[x_cols]\n",
    "y_test = test[['churn']]"
   ]
  },
  {
   "cell_type": "markdown",
   "id": "1ca8131b",
   "metadata": {},
   "source": [
    "---"
   ]
  },
  {
   "cell_type": "markdown",
   "id": "3d45248b",
   "metadata": {},
   "source": [
    "**Evaluate the baseline**\n",
    "- A baseline churn value of 'no churn' or '0' was selected because it was the most frequently observed churn value in the original dataset."
   ]
  },
  {
   "cell_type": "code",
   "execution_count": 21,
   "id": "8b7f459a",
   "metadata": {},
   "outputs": [
    {
     "data": {
      "text/plain": [
       "0.7347197565305605"
      ]
     },
     "execution_count": 21,
     "metadata": {},
     "output_type": "execute_result"
    }
   ],
   "source": [
    "#add a column with the baseline value of '0' for all observations\n",
    "y_train['baseline'] = 0\n",
    "#calculate the accuracy score for baseline values\n",
    "baseline_eval = accuracy_score(y_train.churn, y_train.baseline)\n",
    "#view the baseline accuracy score\n",
    "baseline_eval"
   ]
  },
  {
   "cell_type": "code",
   "execution_count": 23,
   "id": "4678cfb1",
   "metadata": {},
   "outputs": [
    {
     "data": {
      "text/html": [
       "<div>\n",
       "<style scoped>\n",
       "    .dataframe tbody tr th:only-of-type {\n",
       "        vertical-align: middle;\n",
       "    }\n",
       "\n",
       "    .dataframe tbody tr th {\n",
       "        vertical-align: top;\n",
       "    }\n",
       "\n",
       "    .dataframe thead th {\n",
       "        text-align: right;\n",
       "    }\n",
       "</style>\n",
       "<table border=\"1\" class=\"dataframe\">\n",
       "  <thead>\n",
       "    <tr style=\"text-align: right;\">\n",
       "      <th></th>\n",
       "      <th>churn</th>\n",
       "    </tr>\n",
       "  </thead>\n",
       "  <tbody>\n",
       "    <tr>\n",
       "      <th>5310</th>\n",
       "      <td>0</td>\n",
       "    </tr>\n",
       "    <tr>\n",
       "      <th>3790</th>\n",
       "      <td>0</td>\n",
       "    </tr>\n",
       "    <tr>\n",
       "      <th>4398</th>\n",
       "      <td>0</td>\n",
       "    </tr>\n",
       "    <tr>\n",
       "      <th>2635</th>\n",
       "      <td>0</td>\n",
       "    </tr>\n",
       "    <tr>\n",
       "      <th>2986</th>\n",
       "      <td>0</td>\n",
       "    </tr>\n",
       "  </tbody>\n",
       "</table>\n",
       "</div>"
      ],
      "text/plain": [
       "      churn\n",
       "5310      0\n",
       "3790      0\n",
       "4398      0\n",
       "2635      0\n",
       "2986      0"
      ]
     },
     "execution_count": 23,
     "metadata": {},
     "output_type": "execute_result"
    }
   ],
   "source": [
    "#drop the created baseline column for ease of further model creation\n",
    "y_train = y_train.drop(columns='baseline')\n",
    "#verify column drop\n",
    "y_train.head()"
   ]
  },
  {
   "cell_type": "markdown",
   "id": "53790215",
   "metadata": {},
   "source": [
    "---"
   ]
  },
  {
   "cell_type": "markdown",
   "id": "4de5435b",
   "metadata": {},
   "source": [
    "**Decision Tree Model**\n",
    "- The decision tree model was created and fit with the x and y train variables including the above features\n",
    "\n",
    "- The model was then evaluated with a series of different parameters including max depth values from 1 to 10 to determine which model performed the best\n",
    "\n",
    "- Performance of the model increased as max depth went up from 1 through 8 and then it stared to drop off so a max depth of 8 was used for the final versoin of this model.\n",
    "\n",
    "- The model was then validated using the above x and y validate variables\n"
   ]
  },
  {
   "cell_type": "code",
   "execution_count": 24,
   "id": "2097eb70",
   "metadata": {},
   "outputs": [
    {
     "data": {
      "text/html": [
       "<div>\n",
       "<style scoped>\n",
       "    .dataframe tbody tr th:only-of-type {\n",
       "        vertical-align: middle;\n",
       "    }\n",
       "\n",
       "    .dataframe tbody tr th {\n",
       "        vertical-align: top;\n",
       "    }\n",
       "\n",
       "    .dataframe thead th {\n",
       "        text-align: right;\n",
       "    }\n",
       "</style>\n",
       "<table border=\"1\" class=\"dataframe\">\n",
       "  <thead>\n",
       "    <tr style=\"text-align: right;\">\n",
       "      <th></th>\n",
       "      <th>precision</th>\n",
       "      <th>recall</th>\n",
       "      <th>f1-score</th>\n",
       "      <th>support</th>\n",
       "    </tr>\n",
       "  </thead>\n",
       "  <tbody>\n",
       "    <tr>\n",
       "      <th>0</th>\n",
       "      <td>0.814041</td>\n",
       "      <td>0.900587</td>\n",
       "      <td>0.855129</td>\n",
       "      <td>2897.000000</td>\n",
       "    </tr>\n",
       "    <tr>\n",
       "      <th>1</th>\n",
       "      <td>0.609756</td>\n",
       "      <td>0.430210</td>\n",
       "      <td>0.504484</td>\n",
       "      <td>1046.000000</td>\n",
       "    </tr>\n",
       "    <tr>\n",
       "      <th>accuracy</th>\n",
       "      <td>0.775805</td>\n",
       "      <td>0.775805</td>\n",
       "      <td>0.775805</td>\n",
       "      <td>0.775805</td>\n",
       "    </tr>\n",
       "    <tr>\n",
       "      <th>macro avg</th>\n",
       "      <td>0.711898</td>\n",
       "      <td>0.665399</td>\n",
       "      <td>0.679807</td>\n",
       "      <td>3943.000000</td>\n",
       "    </tr>\n",
       "    <tr>\n",
       "      <th>weighted avg</th>\n",
       "      <td>0.759848</td>\n",
       "      <td>0.775805</td>\n",
       "      <td>0.762110</td>\n",
       "      <td>3943.000000</td>\n",
       "    </tr>\n",
       "  </tbody>\n",
       "</table>\n",
       "</div>"
      ],
      "text/plain": [
       "              precision    recall  f1-score      support\n",
       "0              0.814041  0.900587  0.855129  2897.000000\n",
       "1              0.609756  0.430210  0.504484  1046.000000\n",
       "accuracy       0.775805  0.775805  0.775805     0.775805\n",
       "macro avg      0.711898  0.665399  0.679807  3943.000000\n",
       "weighted avg   0.759848  0.775805  0.762110  3943.000000"
      ]
     },
     "execution_count": 24,
     "metadata": {},
     "output_type": "execute_result"
    }
   ],
   "source": [
    "#Create the decision tree model and set the best performing max depth \n",
    "#as well as a random state so that the results can be replicated\n",
    "tree = DecisionTreeClassifier(max_depth=8, random_state=123)\n",
    "#fit the model with the above selected features\n",
    "tree.fit(x_train, y_train)\n",
    "#make predictions with the model\n",
    "y_pred = tree.predict(x_train)\n",
    "#create a classification report dataframe that contains performance metrics for the model with the train dataset\n",
    "pd.DataFrame(classification_report(y_train, y_pred, output_dict=True)).transpose()"
   ]
  },
  {
   "cell_type": "code",
   "execution_count": 25,
   "id": "c63ab696",
   "metadata": {},
   "outputs": [
    {
     "data": {
      "text/html": [
       "<div>\n",
       "<style scoped>\n",
       "    .dataframe tbody tr th:only-of-type {\n",
       "        vertical-align: middle;\n",
       "    }\n",
       "\n",
       "    .dataframe tbody tr th {\n",
       "        vertical-align: top;\n",
       "    }\n",
       "\n",
       "    .dataframe thead th {\n",
       "        text-align: right;\n",
       "    }\n",
       "</style>\n",
       "<table border=\"1\" class=\"dataframe\">\n",
       "  <thead>\n",
       "    <tr style=\"text-align: right;\">\n",
       "      <th></th>\n",
       "      <th>precision</th>\n",
       "      <th>recall</th>\n",
       "      <th>f1-score</th>\n",
       "      <th>support</th>\n",
       "    </tr>\n",
       "  </thead>\n",
       "  <tbody>\n",
       "    <tr>\n",
       "      <th>0</th>\n",
       "      <td>0.820762</td>\n",
       "      <td>0.884863</td>\n",
       "      <td>0.851608</td>\n",
       "      <td>1242.000000</td>\n",
       "    </tr>\n",
       "    <tr>\n",
       "      <th>1</th>\n",
       "      <td>0.593750</td>\n",
       "      <td>0.465479</td>\n",
       "      <td>0.521848</td>\n",
       "      <td>449.000000</td>\n",
       "    </tr>\n",
       "    <tr>\n",
       "      <th>accuracy</th>\n",
       "      <td>0.773507</td>\n",
       "      <td>0.773507</td>\n",
       "      <td>0.773507</td>\n",
       "      <td>0.773507</td>\n",
       "    </tr>\n",
       "    <tr>\n",
       "      <th>macro avg</th>\n",
       "      <td>0.707256</td>\n",
       "      <td>0.675171</td>\n",
       "      <td>0.686728</td>\n",
       "      <td>1691.000000</td>\n",
       "    </tr>\n",
       "    <tr>\n",
       "      <th>weighted avg</th>\n",
       "      <td>0.760485</td>\n",
       "      <td>0.773507</td>\n",
       "      <td>0.764049</td>\n",
       "      <td>1691.000000</td>\n",
       "    </tr>\n",
       "  </tbody>\n",
       "</table>\n",
       "</div>"
      ],
      "text/plain": [
       "              precision    recall  f1-score      support\n",
       "0              0.820762  0.884863  0.851608  1242.000000\n",
       "1              0.593750  0.465479  0.521848   449.000000\n",
       "accuracy       0.773507  0.773507  0.773507     0.773507\n",
       "macro avg      0.707256  0.675171  0.686728  1691.000000\n",
       "weighted avg   0.760485  0.773507  0.764049  1691.000000"
      ]
     },
     "execution_count": 25,
     "metadata": {},
     "output_type": "execute_result"
    }
   ],
   "source": [
    "#validate the model's performance by making predictions with the validate dataset\n",
    "y_val_pred = tree.predict(x_val)\n",
    "#create a classification report dataframe that contains performance metrics for the model with the validate dataset\n",
    "pd.DataFrame(classification_report(y_val, y_val_pred, output_dict=True)).transpose()"
   ]
  },
  {
   "cell_type": "markdown",
   "id": "5f74ca93",
   "metadata": {},
   "source": [
    "---"
   ]
  },
  {
   "cell_type": "markdown",
   "id": "23b2df24",
   "metadata": {},
   "source": [
    "**K-Nearest Neighbor Model**\n",
    "- The KNN model was created and fit with the x and y train variables including the above features\n",
    "\n",
    "- The model was then evaluated with a series of different parameters including n_neighbors values from 1 to 20 to determine which model performed the best\n",
    "\n",
    "- Performance of the model increased as n_neighbors went up from 1 through 5 and then it stared to drop off so a n_neighbors value of 5 was used for the final version of this model.\n",
    "\n",
    "- The model was then validated using the above x and y validate variables"
   ]
  },
  {
   "cell_type": "code",
   "execution_count": 26,
   "id": "813f013a",
   "metadata": {},
   "outputs": [
    {
     "data": {
      "text/html": [
       "<div>\n",
       "<style scoped>\n",
       "    .dataframe tbody tr th:only-of-type {\n",
       "        vertical-align: middle;\n",
       "    }\n",
       "\n",
       "    .dataframe tbody tr th {\n",
       "        vertical-align: top;\n",
       "    }\n",
       "\n",
       "    .dataframe thead th {\n",
       "        text-align: right;\n",
       "    }\n",
       "</style>\n",
       "<table border=\"1\" class=\"dataframe\">\n",
       "  <thead>\n",
       "    <tr style=\"text-align: right;\">\n",
       "      <th></th>\n",
       "      <th>precision</th>\n",
       "      <th>recall</th>\n",
       "      <th>f1-score</th>\n",
       "      <th>support</th>\n",
       "    </tr>\n",
       "  </thead>\n",
       "  <tbody>\n",
       "    <tr>\n",
       "      <th>0</th>\n",
       "      <td>0.827839</td>\n",
       "      <td>0.858129</td>\n",
       "      <td>0.842712</td>\n",
       "      <td>2897.000000</td>\n",
       "    </tr>\n",
       "    <tr>\n",
       "      <th>1</th>\n",
       "      <td>0.562766</td>\n",
       "      <td>0.505736</td>\n",
       "      <td>0.532729</td>\n",
       "      <td>1046.000000</td>\n",
       "    </tr>\n",
       "    <tr>\n",
       "      <th>accuracy</th>\n",
       "      <td>0.764646</td>\n",
       "      <td>0.764646</td>\n",
       "      <td>0.764646</td>\n",
       "      <td>0.764646</td>\n",
       "    </tr>\n",
       "    <tr>\n",
       "      <th>macro avg</th>\n",
       "      <td>0.695302</td>\n",
       "      <td>0.681933</td>\n",
       "      <td>0.687720</td>\n",
       "      <td>3943.000000</td>\n",
       "    </tr>\n",
       "    <tr>\n",
       "      <th>weighted avg</th>\n",
       "      <td>0.757520</td>\n",
       "      <td>0.764646</td>\n",
       "      <td>0.760480</td>\n",
       "      <td>3943.000000</td>\n",
       "    </tr>\n",
       "  </tbody>\n",
       "</table>\n",
       "</div>"
      ],
      "text/plain": [
       "              precision    recall  f1-score      support\n",
       "0              0.827839  0.858129  0.842712  2897.000000\n",
       "1              0.562766  0.505736  0.532729  1046.000000\n",
       "accuracy       0.764646  0.764646  0.764646     0.764646\n",
       "macro avg      0.695302  0.681933  0.687720  3943.000000\n",
       "weighted avg   0.757520  0.764646  0.760480  3943.000000"
      ]
     },
     "execution_count": 26,
     "metadata": {},
     "output_type": "execute_result"
    }
   ],
   "source": [
    "#create the KNN model with a n_neighbors value of 5\n",
    "clf = KNN(n_neighbors=5)\n",
    "#fit the model with the above x and y train variables\n",
    "clf.fit(x_train, y_train)\n",
    "#make predictions with the model\n",
    "y_pred = clf.predict(x_train)\n",
    "#create a classification report dataframe that contains performance metrics for the model with the train dataset\n",
    "pd.DataFrame(classification_report(y_train, y_pred, output_dict=True)).transpose()"
   ]
  },
  {
   "cell_type": "code",
   "execution_count": 27,
   "id": "2d0e202c",
   "metadata": {},
   "outputs": [
    {
     "data": {
      "text/html": [
       "<div>\n",
       "<style scoped>\n",
       "    .dataframe tbody tr th:only-of-type {\n",
       "        vertical-align: middle;\n",
       "    }\n",
       "\n",
       "    .dataframe tbody tr th {\n",
       "        vertical-align: top;\n",
       "    }\n",
       "\n",
       "    .dataframe thead th {\n",
       "        text-align: right;\n",
       "    }\n",
       "</style>\n",
       "<table border=\"1\" class=\"dataframe\">\n",
       "  <thead>\n",
       "    <tr style=\"text-align: right;\">\n",
       "      <th></th>\n",
       "      <th>precision</th>\n",
       "      <th>recall</th>\n",
       "      <th>f1-score</th>\n",
       "      <th>support</th>\n",
       "    </tr>\n",
       "  </thead>\n",
       "  <tbody>\n",
       "    <tr>\n",
       "      <th>0</th>\n",
       "      <td>0.838529</td>\n",
       "      <td>0.844605</td>\n",
       "      <td>0.841556</td>\n",
       "      <td>1242.00000</td>\n",
       "    </tr>\n",
       "    <tr>\n",
       "      <th>1</th>\n",
       "      <td>0.561364</td>\n",
       "      <td>0.550111</td>\n",
       "      <td>0.555681</td>\n",
       "      <td>449.00000</td>\n",
       "    </tr>\n",
       "    <tr>\n",
       "      <th>accuracy</th>\n",
       "      <td>0.766410</td>\n",
       "      <td>0.766410</td>\n",
       "      <td>0.766410</td>\n",
       "      <td>0.76641</td>\n",
       "    </tr>\n",
       "    <tr>\n",
       "      <th>macro avg</th>\n",
       "      <td>0.699946</td>\n",
       "      <td>0.697358</td>\n",
       "      <td>0.698618</td>\n",
       "      <td>1691.00000</td>\n",
       "    </tr>\n",
       "    <tr>\n",
       "      <th>weighted avg</th>\n",
       "      <td>0.764935</td>\n",
       "      <td>0.766410</td>\n",
       "      <td>0.765650</td>\n",
       "      <td>1691.00000</td>\n",
       "    </tr>\n",
       "  </tbody>\n",
       "</table>\n",
       "</div>"
      ],
      "text/plain": [
       "              precision    recall  f1-score     support\n",
       "0              0.838529  0.844605  0.841556  1242.00000\n",
       "1              0.561364  0.550111  0.555681   449.00000\n",
       "accuracy       0.766410  0.766410  0.766410     0.76641\n",
       "macro avg      0.699946  0.697358  0.698618  1691.00000\n",
       "weighted avg   0.764935  0.766410  0.765650  1691.00000"
      ]
     },
     "execution_count": 27,
     "metadata": {},
     "output_type": "execute_result"
    }
   ],
   "source": [
    "#validate the model's performance by making predictions with the validate dataset\n",
    "y_val_pred = clf.predict(x_val)\n",
    "##create a classification report dataframe that contains performance metrics for the model with the validate dataset\n",
    "pd.DataFrame(classification_report(y_val, y_val_pred, output_dict=True)).transpose()"
   ]
  },
  {
   "cell_type": "markdown",
   "id": "04901ad7",
   "metadata": {},
   "source": [
    "---"
   ]
  },
  {
   "cell_type": "markdown",
   "id": "281e6d5a",
   "metadata": {},
   "source": [
    "**Logistic Regression Model**\n",
    "- The Logistic Regression model was created and fit with the x and y train variables including the above features\n",
    "\n",
    "- The model was then evaluated with a series of different parameters including C values of 0.1, 0.5, 1, 10, and 100 to determine which model performed the best\n",
    "\n",
    "- The logistic regression model performed the best with a C value of 1\n",
    "\n",
    "- The model was then validated using the above x and y validate variables"
   ]
  },
  {
   "cell_type": "code",
   "execution_count": 28,
   "id": "732069d5",
   "metadata": {},
   "outputs": [
    {
     "data": {
      "text/html": [
       "<div>\n",
       "<style scoped>\n",
       "    .dataframe tbody tr th:only-of-type {\n",
       "        vertical-align: middle;\n",
       "    }\n",
       "\n",
       "    .dataframe tbody tr th {\n",
       "        vertical-align: top;\n",
       "    }\n",
       "\n",
       "    .dataframe thead th {\n",
       "        text-align: right;\n",
       "    }\n",
       "</style>\n",
       "<table border=\"1\" class=\"dataframe\">\n",
       "  <thead>\n",
       "    <tr style=\"text-align: right;\">\n",
       "      <th></th>\n",
       "      <th>precision</th>\n",
       "      <th>recall</th>\n",
       "      <th>f1-score</th>\n",
       "      <th>support</th>\n",
       "    </tr>\n",
       "  </thead>\n",
       "  <tbody>\n",
       "    <tr>\n",
       "      <th>0</th>\n",
       "      <td>0.803338</td>\n",
       "      <td>0.913704</td>\n",
       "      <td>0.854974</td>\n",
       "      <td>2897.000000</td>\n",
       "    </tr>\n",
       "    <tr>\n",
       "      <th>1</th>\n",
       "      <td>0.614198</td>\n",
       "      <td>0.380497</td>\n",
       "      <td>0.469894</td>\n",
       "      <td>1046.000000</td>\n",
       "    </tr>\n",
       "    <tr>\n",
       "      <th>accuracy</th>\n",
       "      <td>0.772255</td>\n",
       "      <td>0.772255</td>\n",
       "      <td>0.772255</td>\n",
       "      <td>0.772255</td>\n",
       "    </tr>\n",
       "    <tr>\n",
       "      <th>macro avg</th>\n",
       "      <td>0.708768</td>\n",
       "      <td>0.647100</td>\n",
       "      <td>0.662434</td>\n",
       "      <td>3943.000000</td>\n",
       "    </tr>\n",
       "    <tr>\n",
       "      <th>weighted avg</th>\n",
       "      <td>0.753163</td>\n",
       "      <td>0.772255</td>\n",
       "      <td>0.752820</td>\n",
       "      <td>3943.000000</td>\n",
       "    </tr>\n",
       "  </tbody>\n",
       "</table>\n",
       "</div>"
      ],
      "text/plain": [
       "              precision    recall  f1-score      support\n",
       "0              0.803338  0.913704  0.854974  2897.000000\n",
       "1              0.614198  0.380497  0.469894  1046.000000\n",
       "accuracy       0.772255  0.772255  0.772255     0.772255\n",
       "macro avg      0.708768  0.647100  0.662434  3943.000000\n",
       "weighted avg   0.753163  0.772255  0.752820  3943.000000"
      ]
     },
     "execution_count": 28,
     "metadata": {},
     "output_type": "execute_result"
    }
   ],
   "source": [
    "#create the logistic regression model with a c value of 1 \n",
    "#and a random state value so that the results can be reproduced\n",
    "logit = LogisticRegression(C=1, random_state=123)\n",
    "#fit the model with the above x and y train variables\n",
    "logit.fit(x_train, y_train)\n",
    "#make predictions with the model\n",
    "y_pred = logit.predict(x_train)\n",
    "#create a classification report dataframe that contains performance metrics for the model with the train dataset\n",
    "pd.DataFrame(classification_report(y_train, y_pred, output_dict=True)).transpose()"
   ]
  },
  {
   "cell_type": "code",
   "execution_count": 29,
   "id": "0bcc6d4b",
   "metadata": {},
   "outputs": [
    {
     "data": {
      "text/html": [
       "<div>\n",
       "<style scoped>\n",
       "    .dataframe tbody tr th:only-of-type {\n",
       "        vertical-align: middle;\n",
       "    }\n",
       "\n",
       "    .dataframe tbody tr th {\n",
       "        vertical-align: top;\n",
       "    }\n",
       "\n",
       "    .dataframe thead th {\n",
       "        text-align: right;\n",
       "    }\n",
       "</style>\n",
       "<table border=\"1\" class=\"dataframe\">\n",
       "  <thead>\n",
       "    <tr style=\"text-align: right;\">\n",
       "      <th></th>\n",
       "      <th>precision</th>\n",
       "      <th>recall</th>\n",
       "      <th>f1-score</th>\n",
       "      <th>support</th>\n",
       "    </tr>\n",
       "  </thead>\n",
       "  <tbody>\n",
       "    <tr>\n",
       "      <th>0</th>\n",
       "      <td>0.802847</td>\n",
       "      <td>0.908213</td>\n",
       "      <td>0.852286</td>\n",
       "      <td>1242.000000</td>\n",
       "    </tr>\n",
       "    <tr>\n",
       "      <th>1</th>\n",
       "      <td>0.601399</td>\n",
       "      <td>0.383073</td>\n",
       "      <td>0.468027</td>\n",
       "      <td>449.000000</td>\n",
       "    </tr>\n",
       "    <tr>\n",
       "      <th>accuracy</th>\n",
       "      <td>0.768776</td>\n",
       "      <td>0.768776</td>\n",
       "      <td>0.768776</td>\n",
       "      <td>0.768776</td>\n",
       "    </tr>\n",
       "    <tr>\n",
       "      <th>macro avg</th>\n",
       "      <td>0.702123</td>\n",
       "      <td>0.645643</td>\n",
       "      <td>0.660156</td>\n",
       "      <td>1691.000000</td>\n",
       "    </tr>\n",
       "    <tr>\n",
       "      <th>weighted avg</th>\n",
       "      <td>0.749358</td>\n",
       "      <td>0.768776</td>\n",
       "      <td>0.750256</td>\n",
       "      <td>1691.000000</td>\n",
       "    </tr>\n",
       "  </tbody>\n",
       "</table>\n",
       "</div>"
      ],
      "text/plain": [
       "              precision    recall  f1-score      support\n",
       "0              0.802847  0.908213  0.852286  1242.000000\n",
       "1              0.601399  0.383073  0.468027   449.000000\n",
       "accuracy       0.768776  0.768776  0.768776     0.768776\n",
       "macro avg      0.702123  0.645643  0.660156  1691.000000\n",
       "weighted avg   0.749358  0.768776  0.750256  1691.000000"
      ]
     },
     "execution_count": 29,
     "metadata": {},
     "output_type": "execute_result"
    }
   ],
   "source": [
    "#valideate the performance of the model by making predictions with the x and y validate variables\n",
    "y_val_pred = logit.predict(x_val)\n",
    "#create a classification report dataframe that contains performance metrics for the model with the validate dataset\n",
    "pd.DataFrame(classification_report(y_val, y_val_pred, output_dict=True)).transpose()"
   ]
  },
  {
   "cell_type": "markdown",
   "id": "2aece3d7",
   "metadata": {},
   "source": [
    "---"
   ]
  },
  {
   "cell_type": "markdown",
   "id": "39fdf285",
   "metadata": {},
   "source": [
    "##### Best model selection:\n",
    "- All three models performed better than baseline (accuracy of 0.73) with accuracy values from 0.76 to 0.78 on the train dataset\n",
    "\n",
    "- All three models had similar accuracy on the validate dataset only differing by 0.01 (0.77 to 0.78\n",
    "\n",
    "- Since missing the chance (false negative) to offer more support or services to a customer that churns presents the most costly result, we want to control for recall\n",
    "\n",
    "- The KNN model had a notably higher recall value which would control for false negatives so that model was chosen as the final model and tested with the test dataset\n"
   ]
  },
  {
   "cell_type": "markdown",
   "id": "17b0d584",
   "metadata": {},
   "source": [
    "**Evaluate the selected model with test data**"
   ]
  },
  {
   "cell_type": "code",
   "execution_count": 30,
   "id": "0eb596bd",
   "metadata": {},
   "outputs": [
    {
     "data": {
      "text/html": [
       "<div>\n",
       "<style scoped>\n",
       "    .dataframe tbody tr th:only-of-type {\n",
       "        vertical-align: middle;\n",
       "    }\n",
       "\n",
       "    .dataframe tbody tr th {\n",
       "        vertical-align: top;\n",
       "    }\n",
       "\n",
       "    .dataframe thead th {\n",
       "        text-align: right;\n",
       "    }\n",
       "</style>\n",
       "<table border=\"1\" class=\"dataframe\">\n",
       "  <thead>\n",
       "    <tr style=\"text-align: right;\">\n",
       "      <th></th>\n",
       "      <th>precision</th>\n",
       "      <th>recall</th>\n",
       "      <th>f1-score</th>\n",
       "      <th>support</th>\n",
       "    </tr>\n",
       "  </thead>\n",
       "  <tbody>\n",
       "    <tr>\n",
       "      <th>0</th>\n",
       "      <td>0.829524</td>\n",
       "      <td>0.841546</td>\n",
       "      <td>0.835492</td>\n",
       "      <td>1035.000000</td>\n",
       "    </tr>\n",
       "    <tr>\n",
       "      <th>1</th>\n",
       "      <td>0.543175</td>\n",
       "      <td>0.521390</td>\n",
       "      <td>0.532060</td>\n",
       "      <td>374.000000</td>\n",
       "    </tr>\n",
       "    <tr>\n",
       "      <th>accuracy</th>\n",
       "      <td>0.756565</td>\n",
       "      <td>0.756565</td>\n",
       "      <td>0.756565</td>\n",
       "      <td>0.756565</td>\n",
       "    </tr>\n",
       "    <tr>\n",
       "      <th>macro avg</th>\n",
       "      <td>0.686350</td>\n",
       "      <td>0.681468</td>\n",
       "      <td>0.683776</td>\n",
       "      <td>1409.000000</td>\n",
       "    </tr>\n",
       "    <tr>\n",
       "      <th>weighted avg</th>\n",
       "      <td>0.753517</td>\n",
       "      <td>0.756565</td>\n",
       "      <td>0.754950</td>\n",
       "      <td>1409.000000</td>\n",
       "    </tr>\n",
       "  </tbody>\n",
       "</table>\n",
       "</div>"
      ],
      "text/plain": [
       "              precision    recall  f1-score      support\n",
       "0              0.829524  0.841546  0.835492  1035.000000\n",
       "1              0.543175  0.521390  0.532060   374.000000\n",
       "accuracy       0.756565  0.756565  0.756565     0.756565\n",
       "macro avg      0.686350  0.681468  0.683776  1409.000000\n",
       "weighted avg   0.753517  0.756565  0.754950  1409.000000"
      ]
     },
     "execution_count": 30,
     "metadata": {},
     "output_type": "execute_result"
    }
   ],
   "source": [
    "#make predictions with the above KNN model and the x and y test variables\n",
    "y_test_pred = clf.predict(x_test)\n",
    "#create a classification report dataframe that contains performance metrics for the model with the validate dataset\n",
    "pd.DataFrame(classification_report(y_test, y_test_pred, output_dict=True)).transpose()"
   ]
  },
  {
   "cell_type": "markdown",
   "id": "da7c5cde",
   "metadata": {},
   "source": [
    "#### Key Findings \n",
    "- Customer Payment type:\n",
    "    - Customers with the electronic check payment method had a higher churn rate than those with other payment methods and a higher churn rate than the overall customer churn rate.\n",
    "        \n",
    "    - Statistical testing showed that customer payment type is not independent of customer churn rate\n",
    "    \n",
    "- Internet Service Type:\n",
    "    - Customers with fiber optic internet service had a higher curn rate than those with other internet service types and a higher churn rate than the overall customer churn rate\n",
    "    \n",
    "    - Statistical testing showed that customer internet service type is not independent of customer churn rate\n",
    "    \n",
    "- Participation in Support and Backup Programs:\n",
    "    - Customers who do not participate in our tech support and/or our online backup programs had a higher churn rate than those that did participate and a higher churn rate than the overall customer churn rate\n",
    "    \n",
    "    - Statistical testing showed that customer participation in our support and backup programs is not independent of customer churn rate\n",
    "    \n",
    "- Participation in Security and Protection Programs:\n",
    "    - Customers who do not participate in our online security and/or our device protection programs had a higher churn rate than those that did participate and a higher churn rate than the overall customer churn rate\n",
    "    \n",
    "    - Statistical testing showed that customer participation in our security and protection programs is not independent of customer churn rate\n",
    "    \n",
    "- Predictive Modeling (machine learning):\n",
    "    - The best performing model was a K-Nearest Neighbors model with a n-neighbors value of 5\n",
    "    \n",
    "    - The final test of this model on the 'test' dataset produced an accuracy score of .76 which is 3% above baseline values and a recall score of .53 which was notably higher than the recall value of the other models in the validate stage"
   ]
  },
  {
   "cell_type": "markdown",
   "id": "df2b942a",
   "metadata": {},
   "source": [
    "#### Recomendations\n",
    "- For churn rate related to customer payment type I reccomend incentivizing customers to switch to one of our two automatic payment methods\n",
    "\n",
    "- For churn rate related to internet service type I recommend first collecting more information on customer opinion of our fiber optic internet service. Since this is a better quality service than the dsl it is suprising that customers with this type of service have a significantly higher churn rate. There may also be a connection between fiber optic service issues and customers not participating in tech support to get things fixed.\n",
    "\n",
    "- For particiaption in our support/backup and our security//protection programs I reccomend we focus on marketing targeted at increased customer participation and engagement\n"
   ]
  },
  {
   "cell_type": "markdown",
   "id": "65238320",
   "metadata": {},
   "source": [
    "#### Next Steps - If I had more time I would:\n",
    "- Since our highest performing model had an accuracy score only 3% higher than baseline the focus of further work would be on refining the model to increase predictive accuracy\n",
    "\n",
    "- To do this:\n",
    "    - I would use the data/information produced from the above recomended actions to bolster our understanding of drivers of customer churn and to refine our machine learning models to better predict customer churn\n",
    "\n",
    "    - I would further investigate features and feature engineering that could help increase our model's predictive accuracy\n",
    "\n",
    "    - I would further investigate the interrelationship of customer features could produce additional drivers of customer churn and actionable items to reduce that churn"
   ]
  },
  {
   "cell_type": "code",
   "execution_count": null,
   "id": "32e4ed93",
   "metadata": {},
   "outputs": [],
   "source": []
  }
 ],
 "metadata": {
  "kernelspec": {
   "display_name": "Python 3 (ipykernel)",
   "language": "python",
   "name": "python3"
  },
  "language_info": {
   "codemirror_mode": {
    "name": "ipython",
    "version": 3
   },
   "file_extension": ".py",
   "mimetype": "text/x-python",
   "name": "python",
   "nbconvert_exporter": "python",
   "pygments_lexer": "ipython3",
   "version": "3.9.7"
  }
 },
 "nbformat": 4,
 "nbformat_minor": 5
}
