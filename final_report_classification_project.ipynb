{
 "cells": [
  {
   "cell_type": "markdown",
   "id": "68a71a46",
   "metadata": {},
   "source": [
    "## Final Report"
   ]
  },
  {
   "cell_type": "markdown",
   "id": "ad3c145e",
   "metadata": {},
   "source": [
    "##### Project Overview / Goals\n",
    "- \n",
    "- "
   ]
  },
  {
   "cell_type": "markdown",
   "id": "78bc9dab",
   "metadata": {},
   "source": [
    "#### Imports"
   ]
  },
  {
   "cell_type": "code",
   "execution_count": 1,
   "id": "e218662b",
   "metadata": {},
   "outputs": [],
   "source": [
    "import pandas as pd\n",
    "import numpy as np\n",
    "import matplotlib.pyplot as plt\n",
    "import seaborn as sns\n",
    "import scipy.stats as stats\n",
    "\n",
    "from sklearn.metrics import accuracy_score\n",
    "from sklearn.metrics import precision_score\n",
    "from sklearn.metrics import recall_score\n",
    "from sklearn.metrics import classification_report\n",
    "from sklearn.ensemble import RandomForestClassifier\n",
    "from sklearn.model_selection import train_test_split\n",
    "from sklearn.tree import DecisionTreeClassifier, plot_tree, export_text\n",
    "from sklearn.metrics import confusion_matrix\n",
    "from sklearn.neighbors import KNeighborsClassifier as KNN\n",
    "from sklearn.linear_model import LogisticRegression\n",
    "\n",
    "import warnings\n",
    "warnings.filterwarnings('ignore')\n",
    "\n",
    "from acquire import get_telco_data\n",
    "from prepare import prep_telco\n"
   ]
  },
  {
   "cell_type": "markdown",
   "id": "5bc58d5d",
   "metadata": {},
   "source": [
    "#### Data Acquisition and Data Cleaning"
   ]
  },
  {
   "cell_type": "code",
   "execution_count": 2,
   "id": "0a5aced1",
   "metadata": {},
   "outputs": [
    {
     "name": "stdout",
     "output_type": "stream",
     "text": [
      "Reading from csv file...\n"
     ]
    },
    {
     "data": {
      "text/html": [
       "<div>\n",
       "<style scoped>\n",
       "    .dataframe tbody tr th:only-of-type {\n",
       "        vertical-align: middle;\n",
       "    }\n",
       "\n",
       "    .dataframe tbody tr th {\n",
       "        vertical-align: top;\n",
       "    }\n",
       "\n",
       "    .dataframe thead th {\n",
       "        text-align: right;\n",
       "    }\n",
       "</style>\n",
       "<table border=\"1\" class=\"dataframe\">\n",
       "  <thead>\n",
       "    <tr style=\"text-align: right;\">\n",
       "      <th></th>\n",
       "      <th>payment_type_id</th>\n",
       "      <th>internet_service_type_id</th>\n",
       "      <th>contract_type_id</th>\n",
       "      <th>customer_id</th>\n",
       "      <th>gender</th>\n",
       "      <th>senior_citizen</th>\n",
       "      <th>partner</th>\n",
       "      <th>dependents</th>\n",
       "      <th>tenure</th>\n",
       "      <th>phone_service</th>\n",
       "      <th>...</th>\n",
       "      <th>tech_support</th>\n",
       "      <th>streaming_tv</th>\n",
       "      <th>streaming_movies</th>\n",
       "      <th>paperless_billing</th>\n",
       "      <th>monthly_charges</th>\n",
       "      <th>total_charges</th>\n",
       "      <th>churn</th>\n",
       "      <th>contract_type</th>\n",
       "      <th>internet_service_type</th>\n",
       "      <th>payment_type</th>\n",
       "    </tr>\n",
       "  </thead>\n",
       "  <tbody>\n",
       "    <tr>\n",
       "      <th>0</th>\n",
       "      <td>2</td>\n",
       "      <td>1</td>\n",
       "      <td>2</td>\n",
       "      <td>0002-ORFBO</td>\n",
       "      <td>Female</td>\n",
       "      <td>0</td>\n",
       "      <td>Yes</td>\n",
       "      <td>Yes</td>\n",
       "      <td>9</td>\n",
       "      <td>Yes</td>\n",
       "      <td>...</td>\n",
       "      <td>Yes</td>\n",
       "      <td>Yes</td>\n",
       "      <td>No</td>\n",
       "      <td>Yes</td>\n",
       "      <td>65.6</td>\n",
       "      <td>593.3</td>\n",
       "      <td>No</td>\n",
       "      <td>One year</td>\n",
       "      <td>DSL</td>\n",
       "      <td>Mailed check</td>\n",
       "    </tr>\n",
       "    <tr>\n",
       "      <th>1</th>\n",
       "      <td>2</td>\n",
       "      <td>1</td>\n",
       "      <td>1</td>\n",
       "      <td>0003-MKNFE</td>\n",
       "      <td>Male</td>\n",
       "      <td>0</td>\n",
       "      <td>No</td>\n",
       "      <td>No</td>\n",
       "      <td>9</td>\n",
       "      <td>Yes</td>\n",
       "      <td>...</td>\n",
       "      <td>No</td>\n",
       "      <td>No</td>\n",
       "      <td>Yes</td>\n",
       "      <td>No</td>\n",
       "      <td>59.9</td>\n",
       "      <td>542.4</td>\n",
       "      <td>No</td>\n",
       "      <td>Month-to-month</td>\n",
       "      <td>DSL</td>\n",
       "      <td>Mailed check</td>\n",
       "    </tr>\n",
       "    <tr>\n",
       "      <th>2</th>\n",
       "      <td>1</td>\n",
       "      <td>2</td>\n",
       "      <td>1</td>\n",
       "      <td>0004-TLHLJ</td>\n",
       "      <td>Male</td>\n",
       "      <td>0</td>\n",
       "      <td>No</td>\n",
       "      <td>No</td>\n",
       "      <td>4</td>\n",
       "      <td>Yes</td>\n",
       "      <td>...</td>\n",
       "      <td>No</td>\n",
       "      <td>No</td>\n",
       "      <td>No</td>\n",
       "      <td>Yes</td>\n",
       "      <td>73.9</td>\n",
       "      <td>280.85</td>\n",
       "      <td>Yes</td>\n",
       "      <td>Month-to-month</td>\n",
       "      <td>Fiber optic</td>\n",
       "      <td>Electronic check</td>\n",
       "    </tr>\n",
       "    <tr>\n",
       "      <th>3</th>\n",
       "      <td>1</td>\n",
       "      <td>2</td>\n",
       "      <td>1</td>\n",
       "      <td>0011-IGKFF</td>\n",
       "      <td>Male</td>\n",
       "      <td>1</td>\n",
       "      <td>Yes</td>\n",
       "      <td>No</td>\n",
       "      <td>13</td>\n",
       "      <td>Yes</td>\n",
       "      <td>...</td>\n",
       "      <td>No</td>\n",
       "      <td>Yes</td>\n",
       "      <td>Yes</td>\n",
       "      <td>Yes</td>\n",
       "      <td>98.0</td>\n",
       "      <td>1237.85</td>\n",
       "      <td>Yes</td>\n",
       "      <td>Month-to-month</td>\n",
       "      <td>Fiber optic</td>\n",
       "      <td>Electronic check</td>\n",
       "    </tr>\n",
       "    <tr>\n",
       "      <th>4</th>\n",
       "      <td>2</td>\n",
       "      <td>2</td>\n",
       "      <td>1</td>\n",
       "      <td>0013-EXCHZ</td>\n",
       "      <td>Female</td>\n",
       "      <td>1</td>\n",
       "      <td>Yes</td>\n",
       "      <td>No</td>\n",
       "      <td>3</td>\n",
       "      <td>Yes</td>\n",
       "      <td>...</td>\n",
       "      <td>Yes</td>\n",
       "      <td>Yes</td>\n",
       "      <td>No</td>\n",
       "      <td>Yes</td>\n",
       "      <td>83.9</td>\n",
       "      <td>267.4</td>\n",
       "      <td>Yes</td>\n",
       "      <td>Month-to-month</td>\n",
       "      <td>Fiber optic</td>\n",
       "      <td>Mailed check</td>\n",
       "    </tr>\n",
       "  </tbody>\n",
       "</table>\n",
       "<p>5 rows × 24 columns</p>\n",
       "</div>"
      ],
      "text/plain": [
       "   payment_type_id  internet_service_type_id  contract_type_id customer_id  \\\n",
       "0                2                         1                 2  0002-ORFBO   \n",
       "1                2                         1                 1  0003-MKNFE   \n",
       "2                1                         2                 1  0004-TLHLJ   \n",
       "3                1                         2                 1  0011-IGKFF   \n",
       "4                2                         2                 1  0013-EXCHZ   \n",
       "\n",
       "   gender  senior_citizen partner dependents  tenure phone_service  ...  \\\n",
       "0  Female               0     Yes        Yes       9           Yes  ...   \n",
       "1    Male               0      No         No       9           Yes  ...   \n",
       "2    Male               0      No         No       4           Yes  ...   \n",
       "3    Male               1     Yes         No      13           Yes  ...   \n",
       "4  Female               1     Yes         No       3           Yes  ...   \n",
       "\n",
       "  tech_support streaming_tv streaming_movies paperless_billing  \\\n",
       "0          Yes          Yes               No               Yes   \n",
       "1           No           No              Yes                No   \n",
       "2           No           No               No               Yes   \n",
       "3           No          Yes              Yes               Yes   \n",
       "4          Yes          Yes               No               Yes   \n",
       "\n",
       "  monthly_charges total_charges churn   contract_type  internet_service_type  \\\n",
       "0            65.6         593.3    No        One year                    DSL   \n",
       "1            59.9         542.4    No  Month-to-month                    DSL   \n",
       "2            73.9        280.85   Yes  Month-to-month            Fiber optic   \n",
       "3            98.0       1237.85   Yes  Month-to-month            Fiber optic   \n",
       "4            83.9         267.4   Yes  Month-to-month            Fiber optic   \n",
       "\n",
       "       payment_type  \n",
       "0      Mailed check  \n",
       "1      Mailed check  \n",
       "2  Electronic check  \n",
       "3  Electronic check  \n",
       "4      Mailed check  \n",
       "\n",
       "[5 rows x 24 columns]"
      ]
     },
     "execution_count": 2,
     "metadata": {},
     "output_type": "execute_result"
    }
   ],
   "source": [
    "df = get_telco_data()\n",
    "df.head()"
   ]
  },
  {
   "cell_type": "code",
   "execution_count": 3,
   "id": "c2514762",
   "metadata": {},
   "outputs": [
    {
     "data": {
      "text/plain": [
       "((3943, 46), (1691, 46), (1409, 46))"
      ]
     },
     "execution_count": 3,
     "metadata": {},
     "output_type": "execute_result"
    }
   ],
   "source": [
    "train, validate, test = prep_telco(df)\n",
    "train.shape, validate.shape, test.shape"
   ]
  },
  {
   "cell_type": "markdown",
   "id": "b2e8564b",
   "metadata": {},
   "source": [
    "#### Data Exploration"
   ]
  },
  {
   "cell_type": "markdown",
   "id": "93a42fbf",
   "metadata": {},
   "source": [
    "Question 1 - is the customer's choice of payment type related to customer churn"
   ]
  },
  {
   "cell_type": "markdown",
   "id": "41b35c8d",
   "metadata": {},
   "source": [
    "Viz:"
   ]
  },
  {
   "cell_type": "code",
   "execution_count": 5,
   "id": "82b8558a",
   "metadata": {},
   "outputs": [
    {
     "data": {
      "image/png": "[encoded data removed]",
      "text/plain": [
       "<Figure size 432x288 with 1 Axes>"
      ]
     },
     "metadata": {
      "needs_background": "light"
     },
     "output_type": "display_data"
    }
   ],
   "source": [
    "churn_mean = train.churn.mean()\n",
    "sns.barplot(x='payment_type', y='churn', data=train)\n",
    "plt.axhline(churn_mean, label='overall churn rate')\n",
    "plt.legend()\n",
    "plt.show()"
   ]
  },
  {
   "cell_type": "markdown",
   "id": "5709b68c",
   "metadata": {},
   "source": [
    "Stats:"
   ]
  },
  {
   "cell_type": "code",
   "execution_count": 6,
   "id": "a1646588",
   "metadata": {},
   "outputs": [
    {
     "data": {
      "text/html": [
       "<div>\n",
       "<style scoped>\n",
       "    .dataframe tbody tr th:only-of-type {\n",
       "        vertical-align: middle;\n",
       "    }\n",
       "\n",
       "    .dataframe tbody tr th {\n",
       "        vertical-align: top;\n",
       "    }\n",
       "\n",
       "    .dataframe thead th {\n",
       "        text-align: right;\n",
       "    }\n",
       "</style>\n",
       "<table border=\"1\" class=\"dataframe\">\n",
       "  <thead>\n",
       "    <tr style=\"text-align: right;\">\n",
       "      <th>payment_type</th>\n",
       "      <th>Bank transfer (automatic)</th>\n",
       "      <th>Credit card (automatic)</th>\n",
       "      <th>Electronic check</th>\n",
       "      <th>Mailed check</th>\n",
       "    </tr>\n",
       "    <tr>\n",
       "      <th>churn</th>\n",
       "      <th></th>\n",
       "      <th></th>\n",
       "      <th></th>\n",
       "      <th></th>\n",
       "    </tr>\n",
       "  </thead>\n",
       "  <tbody>\n",
       "    <tr>\n",
       "      <th>0</th>\n",
       "      <td>738</td>\n",
       "      <td>727</td>\n",
       "      <td>731</td>\n",
       "      <td>701</td>\n",
       "    </tr>\n",
       "    <tr>\n",
       "      <th>1</th>\n",
       "      <td>135</td>\n",
       "      <td>138</td>\n",
       "      <td>597</td>\n",
       "      <td>176</td>\n",
       "    </tr>\n",
       "  </tbody>\n",
       "</table>\n",
       "</div>"
      ],
      "text/plain": [
       "payment_type  Bank transfer (automatic)  Credit card (automatic)  \\\n",
       "churn                                                              \n",
       "0                                   738                      727   \n",
       "1                                   135                      138   \n",
       "\n",
       "payment_type  Electronic check  Mailed check  \n",
       "churn                                         \n",
       "0                          731           701  \n",
       "1                          597           176  "
      ]
     },
     "execution_count": 6,
     "metadata": {},
     "output_type": "execute_result"
    }
   ],
   "source": [
    "pay_cross = pd.crosstab(train.churn, train.payment_type)\n",
    "pay_cross"
   ]
  },
  {
   "cell_type": "code",
   "execution_count": 8,
   "id": "f4794b76",
   "metadata": {},
   "outputs": [
    {
     "name": "stdout",
     "output_type": "stream",
     "text": [
      "Observed\n",
      "\n",
      "[[738 727 731 701]\n",
      " [135 138 597 176]]\n",
      "---\n",
      "Expected\n",
      "\n",
      "[[641 635 975 644]\n",
      " [231 229 352 232]]\n",
      "---\n",
      "\n",
      "chi^2 = 354.5801\n",
      "p     = 0.0000\n",
      "---\n",
      "\n",
      "There is a statistically significant relationship between payment type and customer churn\n"
     ]
    }
   ],
   "source": [
    "chi2, p, degf, expected = stats.chi2_contingency(pay_cross)\n",
    "print('Observed\\n')\n",
    "print(pay_cross.values)\n",
    "print('---\\nExpected\\n')\n",
    "print(expected.astype(int))\n",
    "print('---\\n')\n",
    "print(f'chi^2 = {chi2:.4f}')\n",
    "print(f'p     = {p:.4f}')\n",
    "print('---\\n')\n",
    "alpha = 0.01\n",
    "if p < alpha:\n",
    "    print('There is a statistically significant relationship between payment type and customer churn')"
   ]
  },
  {
   "cell_type": "markdown",
   "id": "6403366d",
   "metadata": {},
   "source": [
    "Question 2 - is the customer's internet service type related to customer churn"
   ]
  },
  {
   "cell_type": "markdown",
   "id": "2ceaa9c3",
   "metadata": {},
   "source": [
    "viz:"
   ]
  },
  {
   "cell_type": "code",
   "execution_count": 9,
   "id": "f6adc011",
   "metadata": {},
   "outputs": [
    {
     "data": {
      "image/png": "[encoded data removed]",
      "text/plain": [
       "<Figure size 432x288 with 1 Axes>"
      ]
     },
     "metadata": {
      "needs_background": "light"
     },
     "output_type": "display_data"
    }
   ],
   "source": [
    "churn_mean = train.churn.mean()\n",
    "sns.barplot(x='internet_service_type', y='churn', data=train)\n",
    "plt.axhline(churn_mean, label='overall churn rate')\n",
    "plt.legend()\n",
    "plt.show()"
   ]
  },
  {
   "cell_type": "markdown",
   "id": "ad20e6c3",
   "metadata": {},
   "source": [
    "Stats:"
   ]
  },
  {
   "cell_type": "code",
   "execution_count": 10,
   "id": "69f059f0",
   "metadata": {},
   "outputs": [
    {
     "data": {
      "text/html": [
       "<div>\n",
       "<style scoped>\n",
       "    .dataframe tbody tr th:only-of-type {\n",
       "        vertical-align: middle;\n",
       "    }\n",
       "\n",
       "    .dataframe tbody tr th {\n",
       "        vertical-align: top;\n",
       "    }\n",
       "\n",
       "    .dataframe thead th {\n",
       "        text-align: right;\n",
       "    }\n",
       "</style>\n",
       "<table border=\"1\" class=\"dataframe\">\n",
       "  <thead>\n",
       "    <tr style=\"text-align: right;\">\n",
       "      <th>internet_service_type</th>\n",
       "      <th>DSL</th>\n",
       "      <th>Fiber optic</th>\n",
       "      <th>None</th>\n",
       "    </tr>\n",
       "    <tr>\n",
       "      <th>churn</th>\n",
       "      <th></th>\n",
       "      <th></th>\n",
       "      <th></th>\n",
       "    </tr>\n",
       "  </thead>\n",
       "  <tbody>\n",
       "    <tr>\n",
       "      <th>0</th>\n",
       "      <td>1095</td>\n",
       "      <td>1019</td>\n",
       "      <td>783</td>\n",
       "    </tr>\n",
       "    <tr>\n",
       "      <th>1</th>\n",
       "      <td>254</td>\n",
       "      <td>726</td>\n",
       "      <td>66</td>\n",
       "    </tr>\n",
       "  </tbody>\n",
       "</table>\n",
       "</div>"
      ],
      "text/plain": [
       "internet_service_type   DSL  Fiber optic  None\n",
       "churn                                         \n",
       "0                      1095         1019   783\n",
       "1                       254          726    66"
      ]
     },
     "execution_count": 10,
     "metadata": {},
     "output_type": "execute_result"
    }
   ],
   "source": [
    "internet_cross = pd.crosstab(train.churn, train.internet_service_type)\n",
    "internet_cross"
   ]
  },
  {
   "cell_type": "code",
   "execution_count": 11,
   "id": "a9a9d39e",
   "metadata": {},
   "outputs": [
    {
     "name": "stdout",
     "output_type": "stream",
     "text": [
      "Observed\n",
      "\n",
      "[[1095 1019  783]\n",
      " [ 254  726   66]]\n",
      "---\n",
      "Expected\n",
      "\n",
      "[[ 991 1282  623]\n",
      " [ 357  462  225]]\n",
      "---\n",
      "\n",
      "chi^2 = 397.7389\n",
      "p     = 0.0000\n",
      "---\n",
      "\n",
      "There is a statistically significant relationship between internet service type and customer churn\n"
     ]
    }
   ],
   "source": [
    "chi2, p, degf, expected = stats.chi2_contingency(internet_cross)\n",
    "print('Observed\\n')\n",
    "print(internet_cross.values)\n",
    "print('---\\nExpected\\n')\n",
    "print(expected.astype(int))\n",
    "print('---\\n')\n",
    "print(f'chi^2 = {chi2:.4f}')\n",
    "print(f'p     = {p:.4f}')\n",
    "print('---\\n')\n",
    "alpha = 0.01\n",
    "if p < alpha:\n",
    "    print('There is a statistically significant relationship between internet service type and customer churn')"
   ]
  },
  {
   "cell_type": "markdown",
   "id": "990d0a60",
   "metadata": {},
   "source": [
    "Question 3 - is customer participation in our support and back up programs related to customer churn"
   ]
  },
  {
   "cell_type": "markdown",
   "id": "8cdf8883",
   "metadata": {},
   "source": [
    "Viz:"
   ]
  },
  {
   "cell_type": "code",
   "execution_count": 12,
   "id": "b453d633",
   "metadata": {},
   "outputs": [
    {
     "data": {
      "image/png": "[encoded data removed]",
      "text/plain": [
       "<Figure size 720x576 with 2 Axes>"
      ]
     },
     "metadata": {
      "needs_background": "light"
     },
     "output_type": "display_data"
    }
   ],
   "source": [
    "churn_mean = train.churn.mean()\n",
    "fig, ax = plt.subplots(ncols=2, sharey=True, figsize = (10,8))\n",
    "sns.barplot(x='tech_support', y='churn', data=train, ax=ax[0])\n",
    "sns.barplot(x='online_backup', y='churn', data=train, ax=ax[1])\n",
    "ax[0].axhline(churn_mean, label='Overall Churn Rate', linestyle='--')\n",
    "ax[0].set_xlabel('Tech Support')\n",
    "ax[0].set_ylabel('Churn Rate')\n",
    "plt.axhline(churn_mean, label='Overall Churn Rate', linestyle='--')\n",
    "plt.xlabel('Online Backup')\n",
    "plt.ylabel('')\n",
    "plt.legend()\n",
    "plt.show()"
   ]
  },
  {
   "cell_type": "markdown",
   "id": "dd86da8d",
   "metadata": {},
   "source": [
    "Stats:"
   ]
  },
  {
   "cell_type": "code",
   "execution_count": 13,
   "id": "46cfc74f",
   "metadata": {},
   "outputs": [
    {
     "data": {
      "text/html": [
       "<div>\n",
       "<style scoped>\n",
       "    .dataframe tbody tr th:only-of-type {\n",
       "        vertical-align: middle;\n",
       "    }\n",
       "\n",
       "    .dataframe tbody tr th {\n",
       "        vertical-align: top;\n",
       "    }\n",
       "\n",
       "    .dataframe thead th {\n",
       "        text-align: right;\n",
       "    }\n",
       "</style>\n",
       "<table border=\"1\" class=\"dataframe\">\n",
       "  <thead>\n",
       "    <tr style=\"text-align: right;\">\n",
       "      <th>tech_support</th>\n",
       "      <th>No</th>\n",
       "      <th>No internet service</th>\n",
       "      <th>Yes</th>\n",
       "    </tr>\n",
       "    <tr>\n",
       "      <th>churn</th>\n",
       "      <th></th>\n",
       "      <th></th>\n",
       "      <th></th>\n",
       "    </tr>\n",
       "  </thead>\n",
       "  <tbody>\n",
       "    <tr>\n",
       "      <th>0</th>\n",
       "      <td>1146</td>\n",
       "      <td>783</td>\n",
       "      <td>968</td>\n",
       "    </tr>\n",
       "    <tr>\n",
       "      <th>1</th>\n",
       "      <td>793</td>\n",
       "      <td>66</td>\n",
       "      <td>187</td>\n",
       "    </tr>\n",
       "  </tbody>\n",
       "</table>\n",
       "</div>"
      ],
      "text/plain": [
       "tech_support    No  No internet service  Yes\n",
       "churn                                       \n",
       "0             1146                  783  968\n",
       "1              793                   66  187"
      ]
     },
     "execution_count": 13,
     "metadata": {},
     "output_type": "execute_result"
    }
   ],
   "source": [
    "tech_cross = pd.crosstab(train.churn, train.tech_support)\n",
    "tech_cross"
   ]
  },
  {
   "cell_type": "code",
   "execution_count": 14,
   "id": "b0cc0a32",
   "metadata": {},
   "outputs": [
    {
     "name": "stdout",
     "output_type": "stream",
     "text": [
      "Observed\n",
      "\n",
      "[[1146  783  968]\n",
      " [ 793   66  187]]\n",
      "---\n",
      "Expected\n",
      "\n",
      "[[1424  623  848]\n",
      " [ 514  225  306]]\n",
      "---\n",
      "\n",
      "chi^2 = 421.9453\n",
      "p     = 0.0000\n",
      "---\n",
      "\n",
      "There is a statistically significant relationship between having tech support and customer churn\n"
     ]
    }
   ],
   "source": [
    "chi2, p, degf, expected = stats.chi2_contingency(tech_cross)\n",
    "print('Observed\\n')\n",
    "print(tech_cross.values)\n",
    "print('---\\nExpected\\n')\n",
    "print(expected.astype(int))\n",
    "print('---\\n')\n",
    "print(f'chi^2 = {chi2:.4f}')\n",
    "print(f'p     = {p:.4f}')\n",
    "print('---\\n')\n",
    "alpha = 0.01\n",
    "if p < alpha:\n",
    "    print('There is a statistically significant relationship between having tech support and customer churn')"
   ]
  },
  {
   "cell_type": "markdown",
   "id": "b00d2fdb",
   "metadata": {},
   "source": [
    "Question 4 - is customer participation in our security and protection programs related to customer churn rate"
   ]
  },
  {
   "cell_type": "markdown",
   "id": "16f73795",
   "metadata": {},
   "source": [
    "viz:"
   ]
  },
  {
   "cell_type": "code",
   "execution_count": 15,
   "id": "29526979",
   "metadata": {},
   "outputs": [
    {
     "data": {
      "image/png": "[encoded data removed]",
      "text/plain": [
       "<Figure size 720x576 with 2 Axes>"
      ]
     },
     "metadata": {
      "needs_background": "light"
     },
     "output_type": "display_data"
    }
   ],
   "source": [
    "churn_mean = train.churn.mean()\n",
    "fig, ax = plt.subplots(ncols=2, sharey=True, figsize = (10,8))\n",
    "sns.barplot(x='online_security', y='churn', data=train, ax=ax[0])\n",
    "sns.barplot(x='device_protection', y='churn', data=train, ax=ax[1])\n",
    "ax[0].axhline(churn_mean, label='Overall Churn Rate', linestyle='--')\n",
    "ax[0].set_xlabel('Online Security')\n",
    "ax[0].set_ylabel('Churn Rate')\n",
    "plt.axhline(churn_mean, label='Overall Churn Rate', linestyle='--')\n",
    "plt.xlabel('Device Protection')\n",
    "plt.ylabel('')\n",
    "plt.legend()\n",
    "plt.show()"
   ]
  },
  {
   "cell_type": "markdown",
   "id": "7258ec16",
   "metadata": {},
   "source": [
    "stats:"
   ]
  },
  {
   "cell_type": "code",
   "execution_count": 16,
   "id": "2309f85f",
   "metadata": {},
   "outputs": [
    {
     "data": {
      "text/html": [
       "<div>\n",
       "<style scoped>\n",
       "    .dataframe tbody tr th:only-of-type {\n",
       "        vertical-align: middle;\n",
       "    }\n",
       "\n",
       "    .dataframe tbody tr th {\n",
       "        vertical-align: top;\n",
       "    }\n",
       "\n",
       "    .dataframe thead th {\n",
       "        text-align: right;\n",
       "    }\n",
       "</style>\n",
       "<table border=\"1\" class=\"dataframe\">\n",
       "  <thead>\n",
       "    <tr style=\"text-align: right;\">\n",
       "      <th>online_security</th>\n",
       "      <th>No</th>\n",
       "      <th>No internet service</th>\n",
       "      <th>Yes</th>\n",
       "    </tr>\n",
       "    <tr>\n",
       "      <th>churn</th>\n",
       "      <th></th>\n",
       "      <th></th>\n",
       "      <th></th>\n",
       "    </tr>\n",
       "  </thead>\n",
       "  <tbody>\n",
       "    <tr>\n",
       "      <th>0</th>\n",
       "      <td>1145</td>\n",
       "      <td>783</td>\n",
       "      <td>969</td>\n",
       "    </tr>\n",
       "    <tr>\n",
       "      <th>1</th>\n",
       "      <td>801</td>\n",
       "      <td>66</td>\n",
       "      <td>179</td>\n",
       "    </tr>\n",
       "  </tbody>\n",
       "</table>\n",
       "</div>"
      ],
      "text/plain": [
       "online_security    No  No internet service  Yes\n",
       "churn                                          \n",
       "0                1145                  783  969\n",
       "1                 801                   66  179"
      ]
     },
     "execution_count": 16,
     "metadata": {},
     "output_type": "execute_result"
    }
   ],
   "source": [
    "secur_cross = pd.crosstab(train.churn, train.online_security)\n",
    "secur_cross"
   ]
  },
  {
   "cell_type": "code",
   "execution_count": 18,
   "id": "b2b8137d",
   "metadata": {},
   "outputs": [
    {
     "name": "stdout",
     "output_type": "stream",
     "text": [
      "Observed\n",
      "\n",
      "[[1095 1019  783]\n",
      " [ 254  726   66]]\n",
      "---\n",
      "Expected\n",
      "\n",
      "[[1429  623  843]\n",
      " [ 516  225  304]]\n",
      "---\n",
      "\n",
      "chi^2 = 437.4420\n",
      "p     = 0.0000\n",
      "---\n",
      "\n",
      "There is a statistically significant relationship\n"
     ]
    }
   ],
   "source": [
    "chi2, p, degf, expected = stats.chi2_contingency(secur_cross)\n",
    "print('Observed\\n')\n",
    "print(internet_cross.values)\n",
    "print('---\\nExpected\\n')\n",
    "print(expected.astype(int))\n",
    "print('---\\n')\n",
    "print(f'chi^2 = {chi2:.4f}')\n",
    "print(f'p     = {p:.4f}')\n",
    "print('---\\n')\n",
    "alpha = 0.01\n",
    "if p < alpha:\n",
    "    print('There is a statistically significant relationship')"
   ]
  },
  {
   "cell_type": "markdown",
   "id": "729e3a0e",
   "metadata": {},
   "source": [
    "#### Data Modeling"
   ]
  },
  {
   "cell_type": "markdown",
   "id": "65567694",
   "metadata": {},
   "source": [
    "Training and Validating the models"
   ]
  },
  {
   "cell_type": "code",
   "execution_count": 19,
   "id": "339b37f8",
   "metadata": {},
   "outputs": [],
   "source": [
    "x_cols = ['tech_support_No internet service', \n",
    "          'tech_support_Yes', 'online_security_No internet service', \n",
    "          'online_backup_No internet service', 'online_security_Yes', 'online_backup_Yes', \n",
    "          'device_protection_No internet service', 'device_protection_Yes', 'internet_service_type_Fiber optic', \n",
    "          'internet_service_type_None', 'pay_credit', 'pay_mail', 'pay_elec']"
   ]
  },
  {
   "cell_type": "code",
   "execution_count": 20,
   "id": "73d5dd91",
   "metadata": {},
   "outputs": [],
   "source": [
    "x_train = train[x_cols]\n",
    "y_train = train[['churn']]\n",
    "x_val = validate[x_cols]\n",
    "y_val = validate[['churn']]\n",
    "x_test = test[x_cols]\n",
    "y_test = test[['churn']]"
   ]
  },
  {
   "cell_type": "markdown",
   "id": "d0960849",
   "metadata": {},
   "source": [
    "---"
   ]
  },
  {
   "cell_type": "markdown",
   "id": "63194382",
   "metadata": {},
   "source": [
    "Decision Tree Model"
   ]
  },
  {
   "cell_type": "code",
   "execution_count": 21,
   "id": "fd80baa9",
   "metadata": {},
   "outputs": [
    {
     "data": {
      "text/html": [
       "<div>\n",
       "<style scoped>\n",
       "    .dataframe tbody tr th:only-of-type {\n",
       "        vertical-align: middle;\n",
       "    }\n",
       "\n",
       "    .dataframe tbody tr th {\n",
       "        vertical-align: top;\n",
       "    }\n",
       "\n",
       "    .dataframe thead th {\n",
       "        text-align: right;\n",
       "    }\n",
       "</style>\n",
       "<table border=\"1\" class=\"dataframe\">\n",
       "  <thead>\n",
       "    <tr style=\"text-align: right;\">\n",
       "      <th></th>\n",
       "      <th>precision</th>\n",
       "      <th>recall</th>\n",
       "      <th>f1-score</th>\n",
       "      <th>support</th>\n",
       "    </tr>\n",
       "  </thead>\n",
       "  <tbody>\n",
       "    <tr>\n",
       "      <th>0</th>\n",
       "      <td>0.814041</td>\n",
       "      <td>0.900587</td>\n",
       "      <td>0.855129</td>\n",
       "      <td>2897.000000</td>\n",
       "    </tr>\n",
       "    <tr>\n",
       "      <th>1</th>\n",
       "      <td>0.609756</td>\n",
       "      <td>0.430210</td>\n",
       "      <td>0.504484</td>\n",
       "      <td>1046.000000</td>\n",
       "    </tr>\n",
       "    <tr>\n",
       "      <th>accuracy</th>\n",
       "      <td>0.775805</td>\n",
       "      <td>0.775805</td>\n",
       "      <td>0.775805</td>\n",
       "      <td>0.775805</td>\n",
       "    </tr>\n",
       "    <tr>\n",
       "      <th>macro avg</th>\n",
       "      <td>0.711898</td>\n",
       "      <td>0.665399</td>\n",
       "      <td>0.679807</td>\n",
       "      <td>3943.000000</td>\n",
       "    </tr>\n",
       "    <tr>\n",
       "      <th>weighted avg</th>\n",
       "      <td>0.759848</td>\n",
       "      <td>0.775805</td>\n",
       "      <td>0.762110</td>\n",
       "      <td>3943.000000</td>\n",
       "    </tr>\n",
       "  </tbody>\n",
       "</table>\n",
       "</div>"
      ],
      "text/plain": [
       "              precision    recall  f1-score      support\n",
       "0              0.814041  0.900587  0.855129  2897.000000\n",
       "1              0.609756  0.430210  0.504484  1046.000000\n",
       "accuracy       0.775805  0.775805  0.775805     0.775805\n",
       "macro avg      0.711898  0.665399  0.679807  3943.000000\n",
       "weighted avg   0.759848  0.775805  0.762110  3943.000000"
      ]
     },
     "execution_count": 21,
     "metadata": {},
     "output_type": "execute_result"
    }
   ],
   "source": [
    "tree = DecisionTreeClassifier(max_depth=8, random_state=123)\n",
    "tree.fit(x_train, y_train)\n",
    "y_pred = tree.predict(x_train)\n",
    "pd.DataFrame(classification_report(y_train, y_pred, output_dict=True)).transpose()"
   ]
  },
  {
   "cell_type": "code",
   "execution_count": 22,
   "id": "4dc122aa",
   "metadata": {},
   "outputs": [
    {
     "data": {
      "text/html": [
       "<div>\n",
       "<style scoped>\n",
       "    .dataframe tbody tr th:only-of-type {\n",
       "        vertical-align: middle;\n",
       "    }\n",
       "\n",
       "    .dataframe tbody tr th {\n",
       "        vertical-align: top;\n",
       "    }\n",
       "\n",
       "    .dataframe thead th {\n",
       "        text-align: right;\n",
       "    }\n",
       "</style>\n",
       "<table border=\"1\" class=\"dataframe\">\n",
       "  <thead>\n",
       "    <tr style=\"text-align: right;\">\n",
       "      <th></th>\n",
       "      <th>precision</th>\n",
       "      <th>recall</th>\n",
       "      <th>f1-score</th>\n",
       "      <th>support</th>\n",
       "    </tr>\n",
       "  </thead>\n",
       "  <tbody>\n",
       "    <tr>\n",
       "      <th>0</th>\n",
       "      <td>0.820762</td>\n",
       "      <td>0.884863</td>\n",
       "      <td>0.851608</td>\n",
       "      <td>1242.000000</td>\n",
       "    </tr>\n",
       "    <tr>\n",
       "      <th>1</th>\n",
       "      <td>0.593750</td>\n",
       "      <td>0.465479</td>\n",
       "      <td>0.521848</td>\n",
       "      <td>449.000000</td>\n",
       "    </tr>\n",
       "    <tr>\n",
       "      <th>accuracy</th>\n",
       "      <td>0.773507</td>\n",
       "      <td>0.773507</td>\n",
       "      <td>0.773507</td>\n",
       "      <td>0.773507</td>\n",
       "    </tr>\n",
       "    <tr>\n",
       "      <th>macro avg</th>\n",
       "      <td>0.707256</td>\n",
       "      <td>0.675171</td>\n",
       "      <td>0.686728</td>\n",
       "      <td>1691.000000</td>\n",
       "    </tr>\n",
       "    <tr>\n",
       "      <th>weighted avg</th>\n",
       "      <td>0.760485</td>\n",
       "      <td>0.773507</td>\n",
       "      <td>0.764049</td>\n",
       "      <td>1691.000000</td>\n",
       "    </tr>\n",
       "  </tbody>\n",
       "</table>\n",
       "</div>"
      ],
      "text/plain": [
       "              precision    recall  f1-score      support\n",
       "0              0.820762  0.884863  0.851608  1242.000000\n",
       "1              0.593750  0.465479  0.521848   449.000000\n",
       "accuracy       0.773507  0.773507  0.773507     0.773507\n",
       "macro avg      0.707256  0.675171  0.686728  1691.000000\n",
       "weighted avg   0.760485  0.773507  0.764049  1691.000000"
      ]
     },
     "execution_count": 22,
     "metadata": {},
     "output_type": "execute_result"
    }
   ],
   "source": [
    "y_val_pred = tree.predict(x_val)\n",
    "pd.DataFrame(classification_report(y_val, y_val_pred, output_dict=True)).transpose()"
   ]
  },
  {
   "cell_type": "markdown",
   "id": "2048f28e",
   "metadata": {},
   "source": [
    "KNN Model"
   ]
  },
  {
   "cell_type": "code",
   "execution_count": 23,
   "id": "20543867",
   "metadata": {},
   "outputs": [
    {
     "data": {
      "text/html": [
       "<div>\n",
       "<style scoped>\n",
       "    .dataframe tbody tr th:only-of-type {\n",
       "        vertical-align: middle;\n",
       "    }\n",
       "\n",
       "    .dataframe tbody tr th {\n",
       "        vertical-align: top;\n",
       "    }\n",
       "\n",
       "    .dataframe thead th {\n",
       "        text-align: right;\n",
       "    }\n",
       "</style>\n",
       "<table border=\"1\" class=\"dataframe\">\n",
       "  <thead>\n",
       "    <tr style=\"text-align: right;\">\n",
       "      <th></th>\n",
       "      <th>precision</th>\n",
       "      <th>recall</th>\n",
       "      <th>f1-score</th>\n",
       "      <th>support</th>\n",
       "    </tr>\n",
       "  </thead>\n",
       "  <tbody>\n",
       "    <tr>\n",
       "      <th>0</th>\n",
       "      <td>0.827839</td>\n",
       "      <td>0.858129</td>\n",
       "      <td>0.842712</td>\n",
       "      <td>2897.000000</td>\n",
       "    </tr>\n",
       "    <tr>\n",
       "      <th>1</th>\n",
       "      <td>0.562766</td>\n",
       "      <td>0.505736</td>\n",
       "      <td>0.532729</td>\n",
       "      <td>1046.000000</td>\n",
       "    </tr>\n",
       "    <tr>\n",
       "      <th>accuracy</th>\n",
       "      <td>0.764646</td>\n",
       "      <td>0.764646</td>\n",
       "      <td>0.764646</td>\n",
       "      <td>0.764646</td>\n",
       "    </tr>\n",
       "    <tr>\n",
       "      <th>macro avg</th>\n",
       "      <td>0.695302</td>\n",
       "      <td>0.681933</td>\n",
       "      <td>0.687720</td>\n",
       "      <td>3943.000000</td>\n",
       "    </tr>\n",
       "    <tr>\n",
       "      <th>weighted avg</th>\n",
       "      <td>0.757520</td>\n",
       "      <td>0.764646</td>\n",
       "      <td>0.760480</td>\n",
       "      <td>3943.000000</td>\n",
       "    </tr>\n",
       "  </tbody>\n",
       "</table>\n",
       "</div>"
      ],
      "text/plain": [
       "              precision    recall  f1-score      support\n",
       "0              0.827839  0.858129  0.842712  2897.000000\n",
       "1              0.562766  0.505736  0.532729  1046.000000\n",
       "accuracy       0.764646  0.764646  0.764646     0.764646\n",
       "macro avg      0.695302  0.681933  0.687720  3943.000000\n",
       "weighted avg   0.757520  0.764646  0.760480  3943.000000"
      ]
     },
     "execution_count": 23,
     "metadata": {},
     "output_type": "execute_result"
    }
   ],
   "source": [
    "clf = KNN(n_neighbors=5)\n",
    "clf.fit(x_train, y_train)\n",
    "y_pred = clf.predict(x_train)\n",
    "pd.DataFrame(classification_report(y_train, y_pred, output_dict=True)).transpose()"
   ]
  },
  {
   "cell_type": "code",
   "execution_count": 24,
   "id": "0d2d4379",
   "metadata": {},
   "outputs": [
    {
     "data": {
      "text/html": [
       "<div>\n",
       "<style scoped>\n",
       "    .dataframe tbody tr th:only-of-type {\n",
       "        vertical-align: middle;\n",
       "    }\n",
       "\n",
       "    .dataframe tbody tr th {\n",
       "        vertical-align: top;\n",
       "    }\n",
       "\n",
       "    .dataframe thead th {\n",
       "        text-align: right;\n",
       "    }\n",
       "</style>\n",
       "<table border=\"1\" class=\"dataframe\">\n",
       "  <thead>\n",
       "    <tr style=\"text-align: right;\">\n",
       "      <th></th>\n",
       "      <th>precision</th>\n",
       "      <th>recall</th>\n",
       "      <th>f1-score</th>\n",
       "      <th>support</th>\n",
       "    </tr>\n",
       "  </thead>\n",
       "  <tbody>\n",
       "    <tr>\n",
       "      <th>0</th>\n",
       "      <td>0.838529</td>\n",
       "      <td>0.844605</td>\n",
       "      <td>0.841556</td>\n",
       "      <td>1242.00000</td>\n",
       "    </tr>\n",
       "    <tr>\n",
       "      <th>1</th>\n",
       "      <td>0.561364</td>\n",
       "      <td>0.550111</td>\n",
       "      <td>0.555681</td>\n",
       "      <td>449.00000</td>\n",
       "    </tr>\n",
       "    <tr>\n",
       "      <th>accuracy</th>\n",
       "      <td>0.766410</td>\n",
       "      <td>0.766410</td>\n",
       "      <td>0.766410</td>\n",
       "      <td>0.76641</td>\n",
       "    </tr>\n",
       "    <tr>\n",
       "      <th>macro avg</th>\n",
       "      <td>0.699946</td>\n",
       "      <td>0.697358</td>\n",
       "      <td>0.698618</td>\n",
       "      <td>1691.00000</td>\n",
       "    </tr>\n",
       "    <tr>\n",
       "      <th>weighted avg</th>\n",
       "      <td>0.764935</td>\n",
       "      <td>0.766410</td>\n",
       "      <td>0.765650</td>\n",
       "      <td>1691.00000</td>\n",
       "    </tr>\n",
       "  </tbody>\n",
       "</table>\n",
       "</div>"
      ],
      "text/plain": [
       "              precision    recall  f1-score     support\n",
       "0              0.838529  0.844605  0.841556  1242.00000\n",
       "1              0.561364  0.550111  0.555681   449.00000\n",
       "accuracy       0.766410  0.766410  0.766410     0.76641\n",
       "macro avg      0.699946  0.697358  0.698618  1691.00000\n",
       "weighted avg   0.764935  0.766410  0.765650  1691.00000"
      ]
     },
     "execution_count": 24,
     "metadata": {},
     "output_type": "execute_result"
    }
   ],
   "source": [
    "y_val_pred = clf.predict(x_val)\n",
    "pd.DataFrame(classification_report(y_val, y_val_pred, output_dict=True)).transpose()"
   ]
  },
  {
   "cell_type": "markdown",
   "id": "ba09f619",
   "metadata": {},
   "source": [
    "Logistic Regression Model"
   ]
  },
  {
   "cell_type": "code",
   "execution_count": 25,
   "id": "b7670025",
   "metadata": {},
   "outputs": [
    {
     "data": {
      "text/html": [
       "<div>\n",
       "<style scoped>\n",
       "    .dataframe tbody tr th:only-of-type {\n",
       "        vertical-align: middle;\n",
       "    }\n",
       "\n",
       "    .dataframe tbody tr th {\n",
       "        vertical-align: top;\n",
       "    }\n",
       "\n",
       "    .dataframe thead th {\n",
       "        text-align: right;\n",
       "    }\n",
       "</style>\n",
       "<table border=\"1\" class=\"dataframe\">\n",
       "  <thead>\n",
       "    <tr style=\"text-align: right;\">\n",
       "      <th></th>\n",
       "      <th>precision</th>\n",
       "      <th>recall</th>\n",
       "      <th>f1-score</th>\n",
       "      <th>support</th>\n",
       "    </tr>\n",
       "  </thead>\n",
       "  <tbody>\n",
       "    <tr>\n",
       "      <th>0</th>\n",
       "      <td>0.803338</td>\n",
       "      <td>0.913704</td>\n",
       "      <td>0.854974</td>\n",
       "      <td>2897.000000</td>\n",
       "    </tr>\n",
       "    <tr>\n",
       "      <th>1</th>\n",
       "      <td>0.614198</td>\n",
       "      <td>0.380497</td>\n",
       "      <td>0.469894</td>\n",
       "      <td>1046.000000</td>\n",
       "    </tr>\n",
       "    <tr>\n",
       "      <th>accuracy</th>\n",
       "      <td>0.772255</td>\n",
       "      <td>0.772255</td>\n",
       "      <td>0.772255</td>\n",
       "      <td>0.772255</td>\n",
       "    </tr>\n",
       "    <tr>\n",
       "      <th>macro avg</th>\n",
       "      <td>0.708768</td>\n",
       "      <td>0.647100</td>\n",
       "      <td>0.662434</td>\n",
       "      <td>3943.000000</td>\n",
       "    </tr>\n",
       "    <tr>\n",
       "      <th>weighted avg</th>\n",
       "      <td>0.753163</td>\n",
       "      <td>0.772255</td>\n",
       "      <td>0.752820</td>\n",
       "      <td>3943.000000</td>\n",
       "    </tr>\n",
       "  </tbody>\n",
       "</table>\n",
       "</div>"
      ],
      "text/plain": [
       "              precision    recall  f1-score      support\n",
       "0              0.803338  0.913704  0.854974  2897.000000\n",
       "1              0.614198  0.380497  0.469894  1046.000000\n",
       "accuracy       0.772255  0.772255  0.772255     0.772255\n",
       "macro avg      0.708768  0.647100  0.662434  3943.000000\n",
       "weighted avg   0.753163  0.772255  0.752820  3943.000000"
      ]
     },
     "execution_count": 25,
     "metadata": {},
     "output_type": "execute_result"
    }
   ],
   "source": [
    "logit = LogisticRegression(C=1, random_state=123)\n",
    "logit.fit(x_train, y_train)\n",
    "y_pred = logit.predict(x_train)\n",
    "pd.DataFrame(classification_report(y_train, y_pred, output_dict=True)).transpose()"
   ]
  },
  {
   "cell_type": "code",
   "execution_count": 27,
   "id": "d237de1a",
   "metadata": {},
   "outputs": [
    {
     "data": {
      "text/html": [
       "<div>\n",
       "<style scoped>\n",
       "    .dataframe tbody tr th:only-of-type {\n",
       "        vertical-align: middle;\n",
       "    }\n",
       "\n",
       "    .dataframe tbody tr th {\n",
       "        vertical-align: top;\n",
       "    }\n",
       "\n",
       "    .dataframe thead th {\n",
       "        text-align: right;\n",
       "    }\n",
       "</style>\n",
       "<table border=\"1\" class=\"dataframe\">\n",
       "  <thead>\n",
       "    <tr style=\"text-align: right;\">\n",
       "      <th></th>\n",
       "      <th>precision</th>\n",
       "      <th>recall</th>\n",
       "      <th>f1-score</th>\n",
       "      <th>support</th>\n",
       "    </tr>\n",
       "  </thead>\n",
       "  <tbody>\n",
       "    <tr>\n",
       "      <th>0</th>\n",
       "      <td>0.802847</td>\n",
       "      <td>0.908213</td>\n",
       "      <td>0.852286</td>\n",
       "      <td>1242.000000</td>\n",
       "    </tr>\n",
       "    <tr>\n",
       "      <th>1</th>\n",
       "      <td>0.601399</td>\n",
       "      <td>0.383073</td>\n",
       "      <td>0.468027</td>\n",
       "      <td>449.000000</td>\n",
       "    </tr>\n",
       "    <tr>\n",
       "      <th>accuracy</th>\n",
       "      <td>0.768776</td>\n",
       "      <td>0.768776</td>\n",
       "      <td>0.768776</td>\n",
       "      <td>0.768776</td>\n",
       "    </tr>\n",
       "    <tr>\n",
       "      <th>macro avg</th>\n",
       "      <td>0.702123</td>\n",
       "      <td>0.645643</td>\n",
       "      <td>0.660156</td>\n",
       "      <td>1691.000000</td>\n",
       "    </tr>\n",
       "    <tr>\n",
       "      <th>weighted avg</th>\n",
       "      <td>0.749358</td>\n",
       "      <td>0.768776</td>\n",
       "      <td>0.750256</td>\n",
       "      <td>1691.000000</td>\n",
       "    </tr>\n",
       "  </tbody>\n",
       "</table>\n",
       "</div>"
      ],
      "text/plain": [
       "              precision    recall  f1-score      support\n",
       "0              0.802847  0.908213  0.852286  1242.000000\n",
       "1              0.601399  0.383073  0.468027   449.000000\n",
       "accuracy       0.768776  0.768776  0.768776     0.768776\n",
       "macro avg      0.702123  0.645643  0.660156  1691.000000\n",
       "weighted avg   0.749358  0.768776  0.750256  1691.000000"
      ]
     },
     "execution_count": 27,
     "metadata": {},
     "output_type": "execute_result"
    }
   ],
   "source": [
    "y_val_pred = logit.predict(x_val)\n",
    "pd.DataFrame(classification_report(y_val, y_val_pred, output_dict=True)).transpose()"
   ]
  },
  {
   "cell_type": "markdown",
   "id": "5f56c3aa",
   "metadata": {},
   "source": [
    "---"
   ]
  },
  {
   "cell_type": "markdown",
   "id": "79898367",
   "metadata": {},
   "source": [
    "##### Best model selection:\n",
    "- all three models had similar accuracy on the validate dataset only differing by .01\n",
    "\n",
    "- Since missing the chance (false negative) to offer more support or services to a customer that churns is the most costly we want to control for recall\n",
    "\n",
    "- the KNN model had a notably higher recall value which would control for false negatives \n"
   ]
  },
  {
   "cell_type": "markdown",
   "id": "e81a2743",
   "metadata": {},
   "source": [
    "Evaluate the selected model with test data"
   ]
  },
  {
   "cell_type": "code",
   "execution_count": 28,
   "id": "9a21d21b",
   "metadata": {},
   "outputs": [
    {
     "data": {
      "text/html": [
       "<div>\n",
       "<style scoped>\n",
       "    .dataframe tbody tr th:only-of-type {\n",
       "        vertical-align: middle;\n",
       "    }\n",
       "\n",
       "    .dataframe tbody tr th {\n",
       "        vertical-align: top;\n",
       "    }\n",
       "\n",
       "    .dataframe thead th {\n",
       "        text-align: right;\n",
       "    }\n",
       "</style>\n",
       "<table border=\"1\" class=\"dataframe\">\n",
       "  <thead>\n",
       "    <tr style=\"text-align: right;\">\n",
       "      <th></th>\n",
       "      <th>precision</th>\n",
       "      <th>recall</th>\n",
       "      <th>f1-score</th>\n",
       "      <th>support</th>\n",
       "    </tr>\n",
       "  </thead>\n",
       "  <tbody>\n",
       "    <tr>\n",
       "      <th>0</th>\n",
       "      <td>0.829524</td>\n",
       "      <td>0.841546</td>\n",
       "      <td>0.835492</td>\n",
       "      <td>1035.000000</td>\n",
       "    </tr>\n",
       "    <tr>\n",
       "      <th>1</th>\n",
       "      <td>0.543175</td>\n",
       "      <td>0.521390</td>\n",
       "      <td>0.532060</td>\n",
       "      <td>374.000000</td>\n",
       "    </tr>\n",
       "    <tr>\n",
       "      <th>accuracy</th>\n",
       "      <td>0.756565</td>\n",
       "      <td>0.756565</td>\n",
       "      <td>0.756565</td>\n",
       "      <td>0.756565</td>\n",
       "    </tr>\n",
       "    <tr>\n",
       "      <th>macro avg</th>\n",
       "      <td>0.686350</td>\n",
       "      <td>0.681468</td>\n",
       "      <td>0.683776</td>\n",
       "      <td>1409.000000</td>\n",
       "    </tr>\n",
       "    <tr>\n",
       "      <th>weighted avg</th>\n",
       "      <td>0.753517</td>\n",
       "      <td>0.756565</td>\n",
       "      <td>0.754950</td>\n",
       "      <td>1409.000000</td>\n",
       "    </tr>\n",
       "  </tbody>\n",
       "</table>\n",
       "</div>"
      ],
      "text/plain": [
       "              precision    recall  f1-score      support\n",
       "0              0.829524  0.841546  0.835492  1035.000000\n",
       "1              0.543175  0.521390  0.532060   374.000000\n",
       "accuracy       0.756565  0.756565  0.756565     0.756565\n",
       "macro avg      0.686350  0.681468  0.683776  1409.000000\n",
       "weighted avg   0.753517  0.756565  0.754950  1409.000000"
      ]
     },
     "execution_count": 28,
     "metadata": {},
     "output_type": "execute_result"
    }
   ],
   "source": [
    "y_test_pred = clf.predict(x_test)\n",
    "pd.DataFrame(classification_report(y_test, y_test_pred, output_dict=True)).transpose()"
   ]
  },
  {
   "cell_type": "code",
   "execution_count": null,
   "id": "8ecb4d22",
   "metadata": {},
   "outputs": [],
   "source": []
  },
  {
   "cell_type": "code",
   "execution_count": null,
   "id": "ae73c3df",
   "metadata": {},
   "outputs": [],
   "source": []
  },
  {
   "cell_type": "markdown",
   "id": "18df94cd",
   "metadata": {},
   "source": [
    "#### Key Findings / Reccomendations / Next Steps"
   ]
  },
  {
   "cell_type": "code",
   "execution_count": null,
   "id": "3e8d58a8",
   "metadata": {},
   "outputs": [],
   "source": []
  }
 ],
 "metadata": {
  "kernelspec": {
   "display_name": "Python 3 (ipykernel)",
   "language": "python",
   "name": "python3"
  },
  "language_info": {
   "codemirror_mode": {
    "name": "ipython",
    "version": 3
   },
   "file_extension": ".py",
   "mimetype": "text/x-python",
   "name": "python",
   "nbconvert_exporter": "python",
   "pygments_lexer": "ipython3",
   "version": "3.9.7"
  }
 },
 "nbformat": 4,
 "nbformat_minor": 5
}
